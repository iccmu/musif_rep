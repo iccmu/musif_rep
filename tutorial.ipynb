{
 "cells": [
  {
   "cell_type": "code",
   "execution_count": 1,
   "metadata": {},
   "outputs": [],
   "source": [
    "import musif"
   ]
  },
  {
   "cell_type": "code",
   "execution_count": 2,
   "metadata": {},
   "outputs": [
    {
     "name": "stdout",
     "output_type": "stream",
     "text": [
      "1.2\n"
     ]
    }
   ],
   "source": [
    "print(musif.__version__)"
   ]
  },
  {
   "cell_type": "code",
   "execution_count": 3,
   "metadata": {},
   "outputs": [],
   "source": [
    "import urllib.request\n",
    "import zipfile\n",
    "from pathlib import Path\n",
    "\n",
    "data_dir = Path(\"data\")\n",
    "dataset_path = \"dataset.zip\"\n",
    "urllib.request.urlretrieve(\"https://zenodo.org/record/4027957/files/AnatomyComposerAttributionMIDIFilesAndFeatureData_1_0.zip?download=1\", dataset_path)\n",
    "with zipfile.ZipFile(dataset_path, 'r') as zip_ref:\n",
    "    zip_ref.extractall(data_dir)\n",
    "    "
   ]
  },
  {
   "cell_type": "code",
   "execution_count": 4,
   "metadata": {},
   "outputs": [],
   "source": [
    "from musif.config import ExtractConfiguration\n"
   ]
  },
  {
   "cell_type": "code",
   "execution_count": 5,
   "metadata": {},
   "outputs": [],
   "source": [
    "import glob\n",
    "\n",
    "config = ExtractConfiguration(\n",
    "    None,\n",
    "    musescore_dir=\"data\",\n",
    "    basic_modules=[\"scoring\"],\n",
    "    features=[\"jsymbolic\"],\n",
    ")"
   ]
  },
  {
   "cell_type": "code",
   "execution_count": 6,
   "metadata": {},
   "outputs": [],
   "source": [
    "from musif.extract.extract import FeaturesExtractor\n",
    "\n",
    "extractor = FeaturesExtractor(config)"
   ]
  },
  {
   "cell_type": "code",
   "execution_count": 7,
   "metadata": {},
   "outputs": [],
   "source": [
    "extractor = FeaturesExtractor(\n",
    "    None,\n",
    "    musescore_dir=\"data\",\n",
    "    basic_modules=[\"scoring\"],\n",
    "    features=[\"core\", \"ambitus\", \"melody\", \"tempo\", \n",
    "              \"density\", \"texture\", \"lyrics\", \"scale\", \n",
    "              \"key\", \"dynamics\", \"rhytm\"]\n",
    ")"
   ]
  },
  {
   "cell_type": "code",
   "execution_count": 8,
   "metadata": {},
   "outputs": [],
   "source": [
    "import musif.musescore.constants as musescore_c\n",
    "musescore_c.MUSESCORE_FILE_EXTENSION = '.mid'"
   ]
  },
  {
   "cell_type": "code",
   "execution_count": 9,
   "metadata": {},
   "outputs": [],
   "source": [
    "# from musif.extract.extract import FeaturesExtractor\n",
    "\n",
    "# extractor = FeaturesExtractor(config)"
   ]
  },
  {
   "cell_type": "code",
   "execution_count": 10,
   "metadata": {},
   "outputs": [],
   "source": [
    "# extrac = FeaturesExtractor(\n",
    "#     ExtractConfiguration('/Users/ivansimo/Desktop/ICCMU/ICCMU_CODE/musicXXI/MUSIF/config_extraction_example.yml'),\n",
    "#     xml_dir = '/Users/ivansimo/Desktop/ICCMU/ICCMU_CODE/musicXXI/MUSIF/data/AnatomyComposerAttributionMIDIFilesAndFeatureData_1_0/MIDI',\n",
    "#     musescore_dir = '/Users/ivansimo/Desktop/ICCMU/ICCMU_CODE/musicXXI/MUSIF/data/AnatomyComposerAttributionMIDIFilesAndFeatureData_1_0/MIDI/Ib_noPen',\n",
    "# ).extract()"
   ]
  },
  {
   "cell_type": "code",
   "execution_count": 11,
   "metadata": {},
   "outputs": [
    {
     "name": "stderr",
     "output_type": "stream",
     "text": [
      "  0%|          | 0/175 [00:00<?, ?it/s]"
     ]
    },
    {
     "ename": "KeyboardInterrupt",
     "evalue": "",
     "output_type": "error",
     "traceback": [
      "\u001b[0;31m---------------------------------------------------------------------------\u001b[0m",
      "\u001b[0;31mKeyboardInterrupt\u001b[0m                         Traceback (most recent call last)",
      "Cell \u001b[0;32mIn[11], line 1\u001b[0m\n\u001b[0;32m----> 1\u001b[0m df \u001b[38;5;241m=\u001b[39m \u001b[43mextractor\u001b[49m\u001b[38;5;241;43m.\u001b[39;49m\u001b[43mextract\u001b[49m\u001b[43m(\u001b[49m\u001b[43m)\u001b[49m\n",
      "File \u001b[0;32m~/Documents/MUSIF_rep/musif/musif/extract/extract.py:316\u001b[0m, in \u001b[0;36mFeaturesExtractor.extract\u001b[0;34m(self)\u001b[0m\n\u001b[1;32m    313\u001b[0m \u001b[38;5;28;01mif\u001b[39;00m \u001b[38;5;28mlen\u001b[39m(filenames) \u001b[38;5;241m==\u001b[39m \u001b[38;5;241m0\u001b[39m:\n\u001b[1;32m    314\u001b[0m     \u001b[38;5;28;01mraise\u001b[39;00m \u001b[38;5;167;01mFileNotFoundError\u001b[39;00m(\u001b[38;5;124m\"\u001b[39m\u001b[38;5;124mNo file found for extracting features!\u001b[39m\u001b[38;5;124m\"\u001b[39m)\n\u001b[0;32m--> 316\u001b[0m score_df \u001b[38;5;241m=\u001b[39m \u001b[38;5;28;43mself\u001b[39;49m\u001b[38;5;241;43m.\u001b[39;49m\u001b[43m_process_corpus\u001b[49m\u001b[43m(\u001b[49m\u001b[43mfilenames\u001b[49m\u001b[43m)\u001b[49m\n\u001b[1;32m    318\u001b[0m \u001b[38;5;66;03m# fix dtypes\u001b[39;00m\n\u001b[1;32m    319\u001b[0m score_df \u001b[38;5;241m=\u001b[39m score_df\u001b[38;5;241m.\u001b[39mconvert_dtypes()\n",
      "File \u001b[0;32m~/Documents/MUSIF_rep/musif/musif/extract/extract.py:343\u001b[0m, in \u001b[0;36mFeaturesExtractor._process_corpus\u001b[0;34m(self, filenames)\u001b[0m\n\u001b[1;32m    340\u001b[0m             \u001b[38;5;28;01mraise\u001b[39;00m e\n\u001b[1;32m    341\u001b[0m     \u001b[38;5;28;01mreturn\u001b[39;00m score_features\n\u001b[0;32m--> 343\u001b[0m scores_features \u001b[38;5;241m=\u001b[39m \u001b[43mParallel\u001b[49m\u001b[43m(\u001b[49m\u001b[43mn_jobs\u001b[49m\u001b[38;5;241;43m=\u001b[39;49m\u001b[38;5;28;43mself\u001b[39;49m\u001b[38;5;241;43m.\u001b[39;49m\u001b[43m_cfg\u001b[49m\u001b[38;5;241;43m.\u001b[39;49m\u001b[43mparallel\u001b[49m\u001b[43m)\u001b[49m\u001b[43m(\u001b[49m\n\u001b[1;32m    344\u001b[0m \u001b[43m    \u001b[49m\u001b[43mdelayed\u001b[49m\u001b[43m(\u001b[49m\u001b[43mprocess_corpus_par\u001b[49m\u001b[43m)\u001b[49m\u001b[43m(\u001b[49m\u001b[43midx\u001b[49m\u001b[43m,\u001b[49m\u001b[43m \u001b[49m\u001b[43mfname\u001b[49m\u001b[43m)\u001b[49m\n\u001b[1;32m    345\u001b[0m \u001b[43m    \u001b[49m\u001b[38;5;28;43;01mfor\u001b[39;49;00m\u001b[43m \u001b[49m\u001b[43midx\u001b[49m\u001b[43m,\u001b[49m\u001b[43m \u001b[49m\u001b[43mfname\u001b[49m\u001b[43m \u001b[49m\u001b[38;5;129;43;01min\u001b[39;49;00m\u001b[43m \u001b[49m\u001b[38;5;28;43menumerate\u001b[39;49m\u001b[43m(\u001b[49m\u001b[43mtqdm\u001b[49m\u001b[43m(\u001b[49m\u001b[43mfilenames\u001b[49m\u001b[43m)\u001b[49m\u001b[43m)\u001b[49m\n\u001b[1;32m    346\u001b[0m \u001b[43m\u001b[49m\u001b[43m)\u001b[49m\n\u001b[1;32m    348\u001b[0m \u001b[38;5;28;01mif\u001b[39;00m \u001b[38;5;28mself\u001b[39m\u001b[38;5;241m.\u001b[39m_cfg\u001b[38;5;241m.\u001b[39mwindow_size \u001b[38;5;129;01mis\u001b[39;00m \u001b[38;5;129;01mnot\u001b[39;00m \u001b[38;5;28;01mNone\u001b[39;00m:\n\u001b[1;32m    349\u001b[0m     all_dfs \u001b[38;5;241m=\u001b[39m []\n",
      "File \u001b[0;32m~/anaconda3/envs/musif_test/lib/python3.10/site-packages/joblib/parallel.py:1863\u001b[0m, in \u001b[0;36mParallel.__call__\u001b[0;34m(self, iterable)\u001b[0m\n\u001b[1;32m   1861\u001b[0m     output \u001b[38;5;241m=\u001b[39m \u001b[38;5;28mself\u001b[39m\u001b[38;5;241m.\u001b[39m_get_sequential_output(iterable)\n\u001b[1;32m   1862\u001b[0m     \u001b[38;5;28mnext\u001b[39m(output)\n\u001b[0;32m-> 1863\u001b[0m     \u001b[38;5;28;01mreturn\u001b[39;00m output \u001b[38;5;28;01mif\u001b[39;00m \u001b[38;5;28mself\u001b[39m\u001b[38;5;241m.\u001b[39mreturn_generator \u001b[38;5;28;01melse\u001b[39;00m \u001b[38;5;28;43mlist\u001b[39;49m\u001b[43m(\u001b[49m\u001b[43moutput\u001b[49m\u001b[43m)\u001b[49m\n\u001b[1;32m   1865\u001b[0m \u001b[38;5;66;03m# Let's create an ID that uniquely identifies the current call. If the\u001b[39;00m\n\u001b[1;32m   1866\u001b[0m \u001b[38;5;66;03m# call is interrupted early and that the same instance is immediately\u001b[39;00m\n\u001b[1;32m   1867\u001b[0m \u001b[38;5;66;03m# re-used, this id will be used to prevent workers that were\u001b[39;00m\n\u001b[1;32m   1868\u001b[0m \u001b[38;5;66;03m# concurrently finalizing a task from the previous call to run the\u001b[39;00m\n\u001b[1;32m   1869\u001b[0m \u001b[38;5;66;03m# callback.\u001b[39;00m\n\u001b[1;32m   1870\u001b[0m \u001b[38;5;28;01mwith\u001b[39;00m \u001b[38;5;28mself\u001b[39m\u001b[38;5;241m.\u001b[39m_lock:\n",
      "File \u001b[0;32m~/anaconda3/envs/musif_test/lib/python3.10/site-packages/joblib/parallel.py:1792\u001b[0m, in \u001b[0;36mParallel._get_sequential_output\u001b[0;34m(self, iterable)\u001b[0m\n\u001b[1;32m   1790\u001b[0m \u001b[38;5;28mself\u001b[39m\u001b[38;5;241m.\u001b[39mn_dispatched_batches \u001b[38;5;241m+\u001b[39m\u001b[38;5;241m=\u001b[39m \u001b[38;5;241m1\u001b[39m\n\u001b[1;32m   1791\u001b[0m \u001b[38;5;28mself\u001b[39m\u001b[38;5;241m.\u001b[39mn_dispatched_tasks \u001b[38;5;241m+\u001b[39m\u001b[38;5;241m=\u001b[39m \u001b[38;5;241m1\u001b[39m\n\u001b[0;32m-> 1792\u001b[0m res \u001b[38;5;241m=\u001b[39m \u001b[43mfunc\u001b[49m\u001b[43m(\u001b[49m\u001b[38;5;241;43m*\u001b[39;49m\u001b[43margs\u001b[49m\u001b[43m,\u001b[49m\u001b[43m \u001b[49m\u001b[38;5;241;43m*\u001b[39;49m\u001b[38;5;241;43m*\u001b[39;49m\u001b[43mkwargs\u001b[49m\u001b[43m)\u001b[49m\n\u001b[1;32m   1793\u001b[0m \u001b[38;5;28mself\u001b[39m\u001b[38;5;241m.\u001b[39mn_completed_tasks \u001b[38;5;241m+\u001b[39m\u001b[38;5;241m=\u001b[39m \u001b[38;5;241m1\u001b[39m\n\u001b[1;32m   1794\u001b[0m \u001b[38;5;28mself\u001b[39m\u001b[38;5;241m.\u001b[39mprint_progress()\n",
      "File \u001b[0;32m~/Documents/MUSIF_rep/musif/musif/extract/extract.py:332\u001b[0m, in \u001b[0;36mFeaturesExtractor._process_corpus.<locals>.process_corpus_par\u001b[0;34m(idx, filename)\u001b[0m\n\u001b[1;32m    330\u001b[0m         score_features \u001b[38;5;241m=\u001b[39m \u001b[38;5;28mself\u001b[39m\u001b[38;5;241m.\u001b[39m_process_score_windows(idx, filename)\n\u001b[1;32m    331\u001b[0m     \u001b[38;5;28;01melse\u001b[39;00m:\n\u001b[0;32m--> 332\u001b[0m         score_features \u001b[38;5;241m=\u001b[39m \u001b[38;5;28;43mself\u001b[39;49m\u001b[38;5;241;43m.\u001b[39;49m\u001b[43m_process_score\u001b[49m\u001b[43m(\u001b[49m\u001b[43midx\u001b[49m\u001b[43m,\u001b[49m\u001b[43m \u001b[49m\u001b[43mfilename\u001b[49m\u001b[43m)\u001b[49m\n\u001b[1;32m    333\u001b[0m \u001b[38;5;28;01mexcept\u001b[39;00m \u001b[38;5;167;01mException\u001b[39;00m \u001b[38;5;28;01mas\u001b[39;00m e:\n\u001b[1;32m    334\u001b[0m     \u001b[38;5;28;01mif\u001b[39;00m \u001b[38;5;28mself\u001b[39m\u001b[38;5;241m.\u001b[39m_cfg\u001b[38;5;241m.\u001b[39mignore_errors:\n",
      "File \u001b[0;32m~/Documents/MUSIF_rep/musif/musif/extract/extract.py:393\u001b[0m, in \u001b[0;36mFeaturesExtractor._process_score\u001b[0;34m(self, idx, filename)\u001b[0m\n\u001b[1;32m    386\u001b[0m (\n\u001b[1;32m    387\u001b[0m     basic_features,\n\u001b[1;32m    388\u001b[0m     cache_name,\n\u001b[1;32m    389\u001b[0m     parts_data,\n\u001b[1;32m    390\u001b[0m     score_data,\n\u001b[1;32m    391\u001b[0m ) \u001b[38;5;241m=\u001b[39m \u001b[38;5;28mself\u001b[39m\u001b[38;5;241m.\u001b[39m_init_score_processing(idx, filename)\n\u001b[1;32m    392\u001b[0m extract_global_time_signature(score_data)\n\u001b[0;32m--> 393\u001b[0m score_features \u001b[38;5;241m=\u001b[39m \u001b[38;5;28;43mself\u001b[39;49m\u001b[38;5;241;43m.\u001b[39;49m\u001b[43mextract_modules\u001b[49m\u001b[43m(\u001b[49m\n\u001b[1;32m    394\u001b[0m \u001b[43m    \u001b[49m\u001b[38;5;28;43mself\u001b[39;49m\u001b[38;5;241;43m.\u001b[39;49m\u001b[43m_cfg\u001b[49m\u001b[38;5;241;43m.\u001b[39;49m\u001b[43mfeature_modules_addresses\u001b[49m\u001b[43m,\u001b[49m\u001b[43m \u001b[49m\u001b[43mscore_data\u001b[49m\u001b[43m,\u001b[49m\u001b[43m \u001b[49m\u001b[43mparts_data\u001b[49m\u001b[43m,\u001b[49m\u001b[43m \u001b[49m\u001b[43mbasic\u001b[49m\u001b[38;5;241;43m=\u001b[39;49m\u001b[38;5;28;43;01mFalse\u001b[39;49;00m\n\u001b[1;32m    395\u001b[0m \u001b[43m\u001b[49m\u001b[43m)\u001b[49m\n\u001b[1;32m    396\u001b[0m score_features \u001b[38;5;241m=\u001b[39m {\u001b[38;5;241m*\u001b[39m\u001b[38;5;241m*\u001b[39mbasic_features, \u001b[38;5;241m*\u001b[39m\u001b[38;5;241m*\u001b[39mscore_features}\n\u001b[1;32m    397\u001b[0m score_features[C\u001b[38;5;241m.\u001b[39mWINDOW_ID] \u001b[38;5;241m=\u001b[39m \u001b[38;5;241m0\u001b[39m\n",
      "File \u001b[0;32m~/Documents/MUSIF_rep/musif/musif/extract/extract.py:492\u001b[0m, in \u001b[0;36mFeaturesExtractor.extract_modules\u001b[0;34m(self, packages, data, parts_data, basic)\u001b[0m\n\u001b[1;32m    490\u001b[0m \u001b[38;5;28;01mfor\u001b[39;00m package \u001b[38;5;129;01min\u001b[39;00m packages:\n\u001b[1;32m    491\u001b[0m     \u001b[38;5;28;01mfor\u001b[39;00m module \u001b[38;5;129;01min\u001b[39;00m \u001b[38;5;28mself\u001b[39m\u001b[38;5;241m.\u001b[39m_find_modules(package, basic):\n\u001b[0;32m--> 492\u001b[0m         \u001b[38;5;28;43mself\u001b[39;49m\u001b[38;5;241;43m.\u001b[39;49m\u001b[43m_update_parts_module_features\u001b[49m\u001b[43m(\u001b[49m\n\u001b[1;32m    493\u001b[0m \u001b[43m            \u001b[49m\u001b[43mmodule\u001b[49m\u001b[43m,\u001b[49m\u001b[43m \u001b[49m\u001b[43mdata\u001b[49m\u001b[43m,\u001b[49m\u001b[43m \u001b[49m\u001b[43mparts_data\u001b[49m\u001b[43m,\u001b[49m\u001b[43m \u001b[49m\u001b[43mparts_features\u001b[49m\n\u001b[1;32m    494\u001b[0m \u001b[43m        \u001b[49m\u001b[43m)\u001b[49m\n\u001b[1;32m    495\u001b[0m         \u001b[38;5;28mself\u001b[39m\u001b[38;5;241m.\u001b[39m_update_score_module_features(\n\u001b[1;32m    496\u001b[0m             module, data, parts_data, parts_features, score_features\n\u001b[1;32m    497\u001b[0m         )\n\u001b[1;32m    498\u001b[0m \u001b[38;5;28;01mreturn\u001b[39;00m score_features\n",
      "File \u001b[0;32m~/Documents/MUSIF_rep/musif/musif/extract/extract.py:718\u001b[0m, in \u001b[0;36mFeaturesExtractor._update_parts_module_features\u001b[0;34m(self, module, score_data, parts_data, parts_features)\u001b[0m\n\u001b[1;32m    714\u001b[0m ldebug(\n\u001b[1;32m    715\u001b[0m     \u001b[38;5;124mf\u001b[39m\u001b[38;5;124m'\u001b[39m\u001b[38;5;124mExtracting part \u001b[39m\u001b[38;5;124m\"\u001b[39m\u001b[38;5;132;01m{\u001b[39;00mpart_data[C\u001b[38;5;241m.\u001b[39mDATA_PART_ABBREVIATION]\u001b[38;5;132;01m}\u001b[39;00m\u001b[38;5;124m\"\u001b[39m\u001b[38;5;124m \u001b[39m\u001b[38;5;132;01m{\u001b[39;00mmodule_name\u001b[38;5;132;01m}\u001b[39;00m\u001b[38;5;124m features.\u001b[39m\u001b[38;5;124m'\u001b[39m\n\u001b[1;32m    716\u001b[0m )\n\u001b[1;32m    717\u001b[0m \u001b[38;5;28;01mtry\u001b[39;00m:\n\u001b[0;32m--> 718\u001b[0m     \u001b[43mmodule\u001b[49m\u001b[38;5;241;43m.\u001b[39;49m\u001b[43mupdate_part_objects\u001b[49m\u001b[43m(\u001b[49m\n\u001b[1;32m    719\u001b[0m \u001b[43m        \u001b[49m\u001b[43mscore_data\u001b[49m\u001b[43m,\u001b[49m\u001b[43m \u001b[49m\u001b[43mpart_data\u001b[49m\u001b[43m,\u001b[49m\u001b[43m \u001b[49m\u001b[38;5;28;43mself\u001b[39;49m\u001b[38;5;241;43m.\u001b[39;49m\u001b[43m_cfg\u001b[49m\u001b[43m,\u001b[49m\u001b[43m \u001b[49m\u001b[43mpart_features\u001b[49m\n\u001b[1;32m    720\u001b[0m \u001b[43m    \u001b[49m\u001b[43m)\u001b[49m\n\u001b[1;32m    721\u001b[0m \u001b[38;5;28;01mexcept\u001b[39;00m \u001b[38;5;167;01mException\u001b[39;00m \u001b[38;5;28;01mas\u001b[39;00m e:\n\u001b[1;32m    722\u001b[0m     score_name \u001b[38;5;241m=\u001b[39m score_data[\u001b[38;5;124m\"\u001b[39m\u001b[38;5;124mfile\u001b[39m\u001b[38;5;124m\"\u001b[39m]\n",
      "File \u001b[0;32m~/Documents/MUSIF_rep/musif/musif/extract/features/melody/handler.py:33\u001b[0m, in \u001b[0;36mupdate_part_objects\u001b[0;34m(score_data, part_data, cfg, part_features)\u001b[0m\n\u001b[1;32m     28\u001b[0m \u001b[38;5;28;01mdef\u001b[39;00m \u001b[38;5;21mupdate_part_objects\u001b[39m(\n\u001b[1;32m     29\u001b[0m     score_data: \u001b[38;5;28mdict\u001b[39m, part_data: \u001b[38;5;28mdict\u001b[39m, cfg: ExtractConfiguration, part_features: \u001b[38;5;28mdict\u001b[39m\n\u001b[1;32m     30\u001b[0m ):\n\u001b[1;32m     31\u001b[0m     intervals \u001b[38;5;241m=\u001b[39m part_data[DATA_INTERVALS]\n\u001b[0;32m---> 33\u001b[0m     part_features\u001b[38;5;241m.\u001b[39mupdate(\u001b[43mget_motion_features\u001b[49m\u001b[43m(\u001b[49m\u001b[43mpart_data\u001b[49m\u001b[43m)\u001b[49m)\n\u001b[1;32m     34\u001b[0m     part_features\u001b[38;5;241m.\u001b[39mupdate(get_interval_features(intervals))\n\u001b[1;32m     35\u001b[0m     part_features\u001b[38;5;241m.\u001b[39mupdate(get_interval_count_features(intervals))\n",
      "File \u001b[0;32m~/Documents/MUSIF_rep/musif/musif/extract/features/melody/handler.py:728\u001b[0m, in \u001b[0;36mget_motion_features\u001b[0;34m(part_data)\u001b[0m\n\u001b[1;32m    725\u001b[0m \u001b[38;5;28;01mfor\u001b[39;00m step \u001b[38;5;129;01min\u001b[39;00m MOTION_STEPS:\n\u001b[1;32m    726\u001b[0m     \u001b[38;5;28;01mfor\u001b[39;00m win \u001b[38;5;129;01min\u001b[39;00m MOTION_WINS:\n\u001b[1;32m    727\u001b[0m         return_dict\u001b[38;5;241m.\u001b[39mupdate(\n\u001b[0;32m--> 728\u001b[0m             \u001b[43m_motion_features_single_window_step\u001b[49m\u001b[43m(\u001b[49m\n\u001b[1;32m    729\u001b[0m \u001b[43m                \u001b[49m\u001b[43mnotes_duration\u001b[49m\u001b[43m,\u001b[49m\u001b[43m \u001b[49m\u001b[43mnotes_midi\u001b[49m\u001b[43m,\u001b[49m\u001b[43m \u001b[49m\u001b[43mstep\u001b[49m\u001b[43m,\u001b[49m\u001b[43m \u001b[49m\u001b[43mwin\u001b[49m\n\u001b[1;32m    730\u001b[0m \u001b[43m            \u001b[49m\u001b[43m)\u001b[49m\n\u001b[1;32m    731\u001b[0m         )\n\u001b[1;32m    732\u001b[0m \u001b[38;5;28;01mreturn\u001b[39;00m return_dict\n",
      "File \u001b[0;32m~/Documents/MUSIF_rep/musif/musif/extract/features/melody/handler.py:668\u001b[0m, in \u001b[0;36m_motion_features_single_window_step\u001b[0;34m(notes_duration, notes_midi, step, win)\u001b[0m\n\u001b[1;32m    664\u001b[0m \u001b[38;5;66;03m# Rolling mean to smooth the midis by +-1 compasses -- not required for\u001b[39;00m\n\u001b[1;32m    665\u001b[0m \u001b[38;5;66;03m# statistics based on means but important for detecting increasing sequences\u001b[39;00m\n\u001b[1;32m    666\u001b[0m \u001b[38;5;66;03m# with a tolerance.\u001b[39;00m\n\u001b[1;32m    667\u001b[0m midis_smo_series \u001b[38;5;241m=\u001b[39m pd\u001b[38;5;241m.\u001b[39mSeries(midis_raw)\n\u001b[0;32m--> 668\u001b[0m midis_smo \u001b[38;5;241m=\u001b[39m [\n\u001b[1;32m    669\u001b[0m     np\u001b[38;5;241m.\u001b[39mmean(i\u001b[38;5;241m.\u001b[39mto_list()) \u001b[38;5;28;01mfor\u001b[39;00m i \u001b[38;5;129;01min\u001b[39;00m midis_smo_series\u001b[38;5;241m.\u001b[39mrolling(\u001b[38;5;241m2\u001b[39m \u001b[38;5;241m*\u001b[39m win \u001b[38;5;241m+\u001b[39m \u001b[38;5;241m1\u001b[39m, center\u001b[38;5;241m=\u001b[39m\u001b[38;5;28;01mTrue\u001b[39;00m)\n\u001b[1;32m    670\u001b[0m ]\n\u001b[1;32m    672\u001b[0m \u001b[38;5;66;03m# Prolonged ascent/descent chunks in smoothed midis of the aria (allows for\u001b[39;00m\n\u001b[1;32m    673\u001b[0m \u001b[38;5;66;03m# small violations in the form of decrements/increments that do not\u001b[39;00m\n\u001b[1;32m    674\u001b[0m \u001b[38;5;66;03m# decrease/increase the rolling mean).\u001b[39;00m\n\u001b[1;32m    675\u001b[0m dife \u001b[38;5;241m=\u001b[39m np\u001b[38;5;241m.\u001b[39mdiff(midis_smo)\n",
      "File \u001b[0;32m~/Documents/MUSIF_rep/musif/musif/extract/features/melody/handler.py:669\u001b[0m, in \u001b[0;36m<listcomp>\u001b[0;34m(.0)\u001b[0m\n\u001b[1;32m    664\u001b[0m \u001b[38;5;66;03m# Rolling mean to smooth the midis by +-1 compasses -- not required for\u001b[39;00m\n\u001b[1;32m    665\u001b[0m \u001b[38;5;66;03m# statistics based on means but important for detecting increasing sequences\u001b[39;00m\n\u001b[1;32m    666\u001b[0m \u001b[38;5;66;03m# with a tolerance.\u001b[39;00m\n\u001b[1;32m    667\u001b[0m midis_smo_series \u001b[38;5;241m=\u001b[39m pd\u001b[38;5;241m.\u001b[39mSeries(midis_raw)\n\u001b[1;32m    668\u001b[0m midis_smo \u001b[38;5;241m=\u001b[39m [\n\u001b[0;32m--> 669\u001b[0m     \u001b[43mnp\u001b[49m\u001b[38;5;241;43m.\u001b[39;49m\u001b[43mmean\u001b[49m\u001b[43m(\u001b[49m\u001b[43mi\u001b[49m\u001b[38;5;241;43m.\u001b[39;49m\u001b[43mto_list\u001b[49m\u001b[43m(\u001b[49m\u001b[43m)\u001b[49m\u001b[43m)\u001b[49m \u001b[38;5;28;01mfor\u001b[39;00m i \u001b[38;5;129;01min\u001b[39;00m midis_smo_series\u001b[38;5;241m.\u001b[39mrolling(\u001b[38;5;241m2\u001b[39m \u001b[38;5;241m*\u001b[39m win \u001b[38;5;241m+\u001b[39m \u001b[38;5;241m1\u001b[39m, center\u001b[38;5;241m=\u001b[39m\u001b[38;5;28;01mTrue\u001b[39;00m)\n\u001b[1;32m    670\u001b[0m ]\n\u001b[1;32m    672\u001b[0m \u001b[38;5;66;03m# Prolonged ascent/descent chunks in smoothed midis of the aria (allows for\u001b[39;00m\n\u001b[1;32m    673\u001b[0m \u001b[38;5;66;03m# small violations in the form of decrements/increments that do not\u001b[39;00m\n\u001b[1;32m    674\u001b[0m \u001b[38;5;66;03m# decrease/increase the rolling mean).\u001b[39;00m\n\u001b[1;32m    675\u001b[0m dife \u001b[38;5;241m=\u001b[39m np\u001b[38;5;241m.\u001b[39mdiff(midis_smo)\n",
      "File \u001b[0;32m~/anaconda3/envs/musif_test/lib/python3.10/site-packages/numpy/core/fromnumeric.py:3504\u001b[0m, in \u001b[0;36mmean\u001b[0;34m(a, axis, dtype, out, keepdims, where)\u001b[0m\n\u001b[1;32m   3501\u001b[0m     \u001b[38;5;28;01melse\u001b[39;00m:\n\u001b[1;32m   3502\u001b[0m         \u001b[38;5;28;01mreturn\u001b[39;00m mean(axis\u001b[38;5;241m=\u001b[39maxis, dtype\u001b[38;5;241m=\u001b[39mdtype, out\u001b[38;5;241m=\u001b[39mout, \u001b[38;5;241m*\u001b[39m\u001b[38;5;241m*\u001b[39mkwargs)\n\u001b[0;32m-> 3504\u001b[0m \u001b[38;5;28;01mreturn\u001b[39;00m \u001b[43m_methods\u001b[49m\u001b[38;5;241;43m.\u001b[39;49m\u001b[43m_mean\u001b[49m\u001b[43m(\u001b[49m\u001b[43ma\u001b[49m\u001b[43m,\u001b[49m\u001b[43m \u001b[49m\u001b[43maxis\u001b[49m\u001b[38;5;241;43m=\u001b[39;49m\u001b[43maxis\u001b[49m\u001b[43m,\u001b[49m\u001b[43m \u001b[49m\u001b[43mdtype\u001b[49m\u001b[38;5;241;43m=\u001b[39;49m\u001b[43mdtype\u001b[49m\u001b[43m,\u001b[49m\n\u001b[1;32m   3505\u001b[0m \u001b[43m                      \u001b[49m\u001b[43mout\u001b[49m\u001b[38;5;241;43m=\u001b[39;49m\u001b[43mout\u001b[49m\u001b[43m,\u001b[49m\u001b[43m \u001b[49m\u001b[38;5;241;43m*\u001b[39;49m\u001b[38;5;241;43m*\u001b[39;49m\u001b[43mkwargs\u001b[49m\u001b[43m)\u001b[49m\n",
      "File \u001b[0;32m~/anaconda3/envs/musif_test/lib/python3.10/site-packages/numpy/core/_methods.py:102\u001b[0m, in \u001b[0;36m_mean\u001b[0;34m(a, axis, dtype, out, keepdims, where)\u001b[0m\n\u001b[1;32m    101\u001b[0m \u001b[38;5;28;01mdef\u001b[39;00m \u001b[38;5;21m_mean\u001b[39m(a, axis\u001b[38;5;241m=\u001b[39m\u001b[38;5;28;01mNone\u001b[39;00m, dtype\u001b[38;5;241m=\u001b[39m\u001b[38;5;28;01mNone\u001b[39;00m, out\u001b[38;5;241m=\u001b[39m\u001b[38;5;28;01mNone\u001b[39;00m, keepdims\u001b[38;5;241m=\u001b[39m\u001b[38;5;28;01mFalse\u001b[39;00m, \u001b[38;5;241m*\u001b[39m, where\u001b[38;5;241m=\u001b[39m\u001b[38;5;28;01mTrue\u001b[39;00m):\n\u001b[0;32m--> 102\u001b[0m     arr \u001b[38;5;241m=\u001b[39m \u001b[43masanyarray\u001b[49m\u001b[43m(\u001b[49m\u001b[43ma\u001b[49m\u001b[43m)\u001b[49m\n\u001b[1;32m    104\u001b[0m     is_float16_result \u001b[38;5;241m=\u001b[39m \u001b[38;5;28;01mFalse\u001b[39;00m\n\u001b[1;32m    106\u001b[0m     rcount \u001b[38;5;241m=\u001b[39m _count_reduce_items(arr, axis, keepdims\u001b[38;5;241m=\u001b[39mkeepdims, where\u001b[38;5;241m=\u001b[39mwhere)\n",
      "\u001b[0;31mKeyboardInterrupt\u001b[0m: "
     ]
    }
   ],
   "source": [
    "df = extractor.extract()"
   ]
  },
  {
   "cell_type": "code",
   "execution_count": null,
   "metadata": {},
   "outputs": [
    {
     "data": {
      "text/html": [
       "<div>\n",
       "<style scoped>\n",
       "    .dataframe tbody tr th:only-of-type {\n",
       "        vertical-align: middle;\n",
       "    }\n",
       "\n",
       "    .dataframe tbody tr th {\n",
       "        vertical-align: top;\n",
       "    }\n",
       "\n",
       "    .dataframe thead th {\n",
       "        text-align: right;\n",
       "    }\n",
       "</style>\n",
       "<table border=\"1\" class=\"dataframe\">\n",
       "  <thead>\n",
       "    <tr style=\"text-align: right;\">\n",
       "      <th></th>\n",
       "      <th>FamilyWw_Density</th>\n",
       "      <th>FamilyWw_Notes</th>\n",
       "      <th>FamilyWw_NotesMean</th>\n",
       "      <th>FamilyWw_NumberOfFilteredParts</th>\n",
       "      <th>FamilyWw_NumberOfParts</th>\n",
       "      <th>FamilyWw_SoundingDensity</th>\n",
       "      <th>FamilyWw_SoundingMeasures</th>\n",
       "      <th>FamilyWw_SoundingMeasuresMean</th>\n",
       "      <th>FileName</th>\n",
       "      <th>Id</th>\n",
       "      <th>...</th>\n",
       "      <th>Score_StepwiseMotionDesc_Per</th>\n",
       "      <th>Score_TrimmedAbsoluteIntervallicMean</th>\n",
       "      <th>Score_TrimmedAbsoluteIntervallicStd</th>\n",
       "      <th>Score_TrimmedIntervallicMean</th>\n",
       "      <th>Score_TrimmedIntervallicStd</th>\n",
       "      <th>Scoring</th>\n",
       "      <th>TimeSignature</th>\n",
       "      <th>TimeSignatureGrouped</th>\n",
       "      <th>Voices</th>\n",
       "      <th>WindowId</th>\n",
       "    </tr>\n",
       "  </thead>\n",
       "  <tbody>\n",
       "    <tr>\n",
       "      <th>0</th>\n",
       "      <td>0.619932</td>\n",
       "      <td>367</td>\n",
       "      <td>91.75</td>\n",
       "      <td>4</td>\n",
       "      <td>4</td>\n",
       "      <td>0.660072</td>\n",
       "      <td>278</td>\n",
       "      <td>69.5</td>\n",
       "      <td>/Users/ivansimo/Desktop/ICCMU/ICCMU_CODE/MUSIF...</td>\n",
       "      <td>0</td>\n",
       "      <td>...</td>\n",
       "      <td>0.239669</td>\n",
       "      <td>1.539519</td>\n",
       "      <td>1.316425</td>\n",
       "      <td>-0.113402</td>\n",
       "      <td>1.468171</td>\n",
       "      <td>flI,flII,flII,flII</td>\n",
       "      <td>2/1</td>\n",
       "      <td>other</td>\n",
       "      <td></td>\n",
       "      <td>0</td>\n",
       "    </tr>\n",
       "    <tr>\n",
       "      <th>1</th>\n",
       "      <td>0.872024</td>\n",
       "      <td>586</td>\n",
       "      <td>146.5</td>\n",
       "      <td>4</td>\n",
       "      <td>4</td>\n",
       "      <td>1.069343</td>\n",
       "      <td>274</td>\n",
       "      <td>68.5</td>\n",
       "      <td>/Users/ivansimo/Desktop/ICCMU/ICCMU_CODE/MUSIF...</td>\n",
       "      <td>1</td>\n",
       "      <td>...</td>\n",
       "      <td>0.273196</td>\n",
       "      <td>1.761803</td>\n",
       "      <td>1.161396</td>\n",
       "      <td>-0.165236</td>\n",
       "      <td>1.616888</td>\n",
       "      <td>flI,flII,flII,flII</td>\n",
       "      <td>2/1</td>\n",
       "      <td>other</td>\n",
       "      <td></td>\n",
       "      <td>0</td>\n",
       "    </tr>\n",
       "    <tr>\n",
       "      <th>2</th>\n",
       "      <td>0.974593</td>\n",
       "      <td>959</td>\n",
       "      <td>239.75</td>\n",
       "      <td>4</td>\n",
       "      <td>4</td>\n",
       "      <td>1.175245</td>\n",
       "      <td>408</td>\n",
       "      <td>102.0</td>\n",
       "      <td>/Users/ivansimo/Desktop/ICCMU/ICCMU_CODE/MUSIF...</td>\n",
       "      <td>2</td>\n",
       "      <td>...</td>\n",
       "      <td>0.326702</td>\n",
       "      <td>1.816993</td>\n",
       "      <td>0.848204</td>\n",
       "      <td>-0.103268</td>\n",
       "      <td>1.616436</td>\n",
       "      <td>flI,flII,flII,flIII</td>\n",
       "      <td>2/1</td>\n",
       "      <td>other</td>\n",
       "      <td></td>\n",
       "      <td>0</td>\n",
       "    </tr>\n",
       "    <tr>\n",
       "      <th>3</th>\n",
       "      <td>0.736979</td>\n",
       "      <td>566</td>\n",
       "      <td>141.5</td>\n",
       "      <td>4</td>\n",
       "      <td>4</td>\n",
       "      <td>0.887147</td>\n",
       "      <td>319</td>\n",
       "      <td>79.75</td>\n",
       "      <td>/Users/ivansimo/Desktop/ICCMU/ICCMU_CODE/MUSIF...</td>\n",
       "      <td>3</td>\n",
       "      <td>...</td>\n",
       "      <td>0.259786</td>\n",
       "      <td>1.746667</td>\n",
       "      <td>1.213919</td>\n",
       "      <td>-0.095556</td>\n",
       "      <td>1.564105</td>\n",
       "      <td>flI,flII,flII,flII</td>\n",
       "      <td>2/1</td>\n",
       "      <td>other</td>\n",
       "      <td></td>\n",
       "      <td>0</td>\n",
       "    </tr>\n",
       "    <tr>\n",
       "      <th>4</th>\n",
       "      <td>0.957692</td>\n",
       "      <td>498</td>\n",
       "      <td>124.5</td>\n",
       "      <td>4</td>\n",
       "      <td>4</td>\n",
       "      <td>1.10177</td>\n",
       "      <td>226</td>\n",
       "      <td>56.5</td>\n",
       "      <td>/Users/ivansimo/Desktop/ICCMU/ICCMU_CODE/MUSIF...</td>\n",
       "      <td>4</td>\n",
       "      <td>...</td>\n",
       "      <td>0.293522</td>\n",
       "      <td>1.825758</td>\n",
       "      <td>1.006265</td>\n",
       "      <td>-0.073232</td>\n",
       "      <td>1.619699</td>\n",
       "      <td>flI,flII,flIII,flIII</td>\n",
       "      <td>2/1</td>\n",
       "      <td>other</td>\n",
       "      <td></td>\n",
       "      <td>0</td>\n",
       "    </tr>\n",
       "    <tr>\n",
       "      <th>...</th>\n",
       "      <td>...</td>\n",
       "      <td>...</td>\n",
       "      <td>...</td>\n",
       "      <td>...</td>\n",
       "      <td>...</td>\n",
       "      <td>...</td>\n",
       "      <td>...</td>\n",
       "      <td>...</td>\n",
       "      <td>...</td>\n",
       "      <td>...</td>\n",
       "      <td>...</td>\n",
       "      <td>...</td>\n",
       "      <td>...</td>\n",
       "      <td>...</td>\n",
       "      <td>...</td>\n",
       "      <td>...</td>\n",
       "      <td>...</td>\n",
       "      <td>...</td>\n",
       "      <td>...</td>\n",
       "      <td>...</td>\n",
       "      <td>...</td>\n",
       "    </tr>\n",
       "    <tr>\n",
       "      <th>170</th>\n",
       "      <td>1.070513</td>\n",
       "      <td>668</td>\n",
       "      <td>167.0</td>\n",
       "      <td>4</td>\n",
       "      <td>4</td>\n",
       "      <td>1.265152</td>\n",
       "      <td>264</td>\n",
       "      <td>66.0</td>\n",
       "      <td>/Users/ivansimo/Desktop/ICCMU/ICCMU_CODE/MUSIF...</td>\n",
       "      <td>170</td>\n",
       "      <td>...</td>\n",
       "      <td>0.34488</td>\n",
       "      <td>1.853383</td>\n",
       "      <td>0.971941</td>\n",
       "      <td>-0.110902</td>\n",
       "      <td>1.629415</td>\n",
       "      <td>flI,flII,flII,flII</td>\n",
       "      <td>2/1</td>\n",
       "      <td>other</td>\n",
       "      <td></td>\n",
       "      <td>0</td>\n",
       "    </tr>\n",
       "    <tr>\n",
       "      <th>171</th>\n",
       "      <td>1.125</td>\n",
       "      <td>729</td>\n",
       "      <td>182.25</td>\n",
       "      <td>4</td>\n",
       "      <td>4</td>\n",
       "      <td>1.285714</td>\n",
       "      <td>189</td>\n",
       "      <td>47.25</td>\n",
       "      <td>/Users/ivansimo/Desktop/ICCMU/ICCMU_CODE/MUSIF...</td>\n",
       "      <td>171</td>\n",
       "      <td>...</td>\n",
       "      <td>0.291034</td>\n",
       "      <td>2.041308</td>\n",
       "      <td>0.881058</td>\n",
       "      <td>0.02926</td>\n",
       "      <td>1.76039</td>\n",
       "      <td>flI,flI,flI,flI</td>\n",
       "      <td>3/1</td>\n",
       "      <td>other</td>\n",
       "      <td></td>\n",
       "      <td>0</td>\n",
       "    </tr>\n",
       "    <tr>\n",
       "      <th>172</th>\n",
       "      <td>0.913306</td>\n",
       "      <td>453</td>\n",
       "      <td>113.25</td>\n",
       "      <td>4</td>\n",
       "      <td>4</td>\n",
       "      <td>1.198413</td>\n",
       "      <td>189</td>\n",
       "      <td>47.25</td>\n",
       "      <td>/Users/ivansimo/Desktop/ICCMU/ICCMU_CODE/MUSIF...</td>\n",
       "      <td>172</td>\n",
       "      <td>...</td>\n",
       "      <td>0.336303</td>\n",
       "      <td>1.734072</td>\n",
       "      <td>0.875127</td>\n",
       "      <td>-0.049861</td>\n",
       "      <td>1.546242</td>\n",
       "      <td>flI,flI,flI,flI</td>\n",
       "      <td>2/1</td>\n",
       "      <td>other</td>\n",
       "      <td></td>\n",
       "      <td>0</td>\n",
       "    </tr>\n",
       "    <tr>\n",
       "      <th>173</th>\n",
       "      <td>0.904412</td>\n",
       "      <td>369</td>\n",
       "      <td>92.25</td>\n",
       "      <td>4</td>\n",
       "      <td>4</td>\n",
       "      <td>1.111446</td>\n",
       "      <td>166</td>\n",
       "      <td>41.5</td>\n",
       "      <td>/Users/ivansimo/Desktop/ICCMU/ICCMU_CODE/MUSIF...</td>\n",
       "      <td>173</td>\n",
       "      <td>...</td>\n",
       "      <td>0.342466</td>\n",
       "      <td>1.761092</td>\n",
       "      <td>0.746497</td>\n",
       "      <td>-0.051195</td>\n",
       "      <td>1.598028</td>\n",
       "      <td>flI,flII,flII,flII</td>\n",
       "      <td>2/1</td>\n",
       "      <td>other</td>\n",
       "      <td></td>\n",
       "      <td>0</td>\n",
       "    </tr>\n",
       "    <tr>\n",
       "      <th>174</th>\n",
       "      <td>1.377119</td>\n",
       "      <td>650</td>\n",
       "      <td>162.5</td>\n",
       "      <td>4</td>\n",
       "      <td>4</td>\n",
       "      <td>1.50463</td>\n",
       "      <td>216</td>\n",
       "      <td>54.0</td>\n",
       "      <td>/Users/ivansimo/Desktop/ICCMU/ICCMU_CODE/MUSIF...</td>\n",
       "      <td>174</td>\n",
       "      <td>...</td>\n",
       "      <td>0.267802</td>\n",
       "      <td>1.888031</td>\n",
       "      <td>1.148699</td>\n",
       "      <td>-0.15444</td>\n",
       "      <td>1.713925</td>\n",
       "      <td>flI,flII,flII,flII</td>\n",
       "      <td>2/1</td>\n",
       "      <td>other</td>\n",
       "      <td></td>\n",
       "      <td>0</td>\n",
       "    </tr>\n",
       "  </tbody>\n",
       "</table>\n",
       "<p>175 rows × 561 columns</p>\n",
       "</div>"
      ],
      "text/plain": [
       "     FamilyWw_Density  FamilyWw_Notes  FamilyWw_NotesMean  \\\n",
       "0            0.619932             367               91.75   \n",
       "1            0.872024             586               146.5   \n",
       "2            0.974593             959              239.75   \n",
       "3            0.736979             566               141.5   \n",
       "4            0.957692             498               124.5   \n",
       "..                ...             ...                 ...   \n",
       "170          1.070513             668               167.0   \n",
       "171             1.125             729              182.25   \n",
       "172          0.913306             453              113.25   \n",
       "173          0.904412             369               92.25   \n",
       "174          1.377119             650               162.5   \n",
       "\n",
       "     FamilyWw_NumberOfFilteredParts  FamilyWw_NumberOfParts  \\\n",
       "0                                 4                       4   \n",
       "1                                 4                       4   \n",
       "2                                 4                       4   \n",
       "3                                 4                       4   \n",
       "4                                 4                       4   \n",
       "..                              ...                     ...   \n",
       "170                               4                       4   \n",
       "171                               4                       4   \n",
       "172                               4                       4   \n",
       "173                               4                       4   \n",
       "174                               4                       4   \n",
       "\n",
       "     FamilyWw_SoundingDensity  FamilyWw_SoundingMeasures  \\\n",
       "0                    0.660072                        278   \n",
       "1                    1.069343                        274   \n",
       "2                    1.175245                        408   \n",
       "3                    0.887147                        319   \n",
       "4                     1.10177                        226   \n",
       "..                        ...                        ...   \n",
       "170                  1.265152                        264   \n",
       "171                  1.285714                        189   \n",
       "172                  1.198413                        189   \n",
       "173                  1.111446                        166   \n",
       "174                   1.50463                        216   \n",
       "\n",
       "     FamilyWw_SoundingMeasuresMean  \\\n",
       "0                             69.5   \n",
       "1                             68.5   \n",
       "2                            102.0   \n",
       "3                            79.75   \n",
       "4                             56.5   \n",
       "..                             ...   \n",
       "170                           66.0   \n",
       "171                          47.25   \n",
       "172                          47.25   \n",
       "173                           41.5   \n",
       "174                           54.0   \n",
       "\n",
       "                                              FileName   Id  ...  \\\n",
       "0    /Users/ivansimo/Desktop/ICCMU/ICCMU_CODE/MUSIF...    0  ...   \n",
       "1    /Users/ivansimo/Desktop/ICCMU/ICCMU_CODE/MUSIF...    1  ...   \n",
       "2    /Users/ivansimo/Desktop/ICCMU/ICCMU_CODE/MUSIF...    2  ...   \n",
       "3    /Users/ivansimo/Desktop/ICCMU/ICCMU_CODE/MUSIF...    3  ...   \n",
       "4    /Users/ivansimo/Desktop/ICCMU/ICCMU_CODE/MUSIF...    4  ...   \n",
       "..                                                 ...  ...  ...   \n",
       "170  /Users/ivansimo/Desktop/ICCMU/ICCMU_CODE/MUSIF...  170  ...   \n",
       "171  /Users/ivansimo/Desktop/ICCMU/ICCMU_CODE/MUSIF...  171  ...   \n",
       "172  /Users/ivansimo/Desktop/ICCMU/ICCMU_CODE/MUSIF...  172  ...   \n",
       "173  /Users/ivansimo/Desktop/ICCMU/ICCMU_CODE/MUSIF...  173  ...   \n",
       "174  /Users/ivansimo/Desktop/ICCMU/ICCMU_CODE/MUSIF...  174  ...   \n",
       "\n",
       "    Score_StepwiseMotionDesc_Per Score_TrimmedAbsoluteIntervallicMean  \\\n",
       "0                       0.239669                             1.539519   \n",
       "1                       0.273196                             1.761803   \n",
       "2                       0.326702                             1.816993   \n",
       "3                       0.259786                             1.746667   \n",
       "4                       0.293522                             1.825758   \n",
       "..                           ...                                  ...   \n",
       "170                      0.34488                             1.853383   \n",
       "171                     0.291034                             2.041308   \n",
       "172                     0.336303                             1.734072   \n",
       "173                     0.342466                             1.761092   \n",
       "174                     0.267802                             1.888031   \n",
       "\n",
       "    Score_TrimmedAbsoluteIntervallicStd  Score_TrimmedIntervallicMean  \\\n",
       "0                              1.316425                     -0.113402   \n",
       "1                              1.161396                     -0.165236   \n",
       "2                              0.848204                     -0.103268   \n",
       "3                              1.213919                     -0.095556   \n",
       "4                              1.006265                     -0.073232   \n",
       "..                                  ...                           ...   \n",
       "170                            0.971941                     -0.110902   \n",
       "171                            0.881058                       0.02926   \n",
       "172                            0.875127                     -0.049861   \n",
       "173                            0.746497                     -0.051195   \n",
       "174                            1.148699                      -0.15444   \n",
       "\n",
       "    Score_TrimmedIntervallicStd               Scoring  TimeSignature  \\\n",
       "0                      1.468171    flI,flII,flII,flII            2/1   \n",
       "1                      1.616888    flI,flII,flII,flII            2/1   \n",
       "2                      1.616436   flI,flII,flII,flIII            2/1   \n",
       "3                      1.564105    flI,flII,flII,flII            2/1   \n",
       "4                      1.619699  flI,flII,flIII,flIII            2/1   \n",
       "..                          ...                   ...            ...   \n",
       "170                    1.629415    flI,flII,flII,flII            2/1   \n",
       "171                     1.76039       flI,flI,flI,flI            3/1   \n",
       "172                    1.546242       flI,flI,flI,flI            2/1   \n",
       "173                    1.598028    flI,flII,flII,flII            2/1   \n",
       "174                    1.713925    flI,flII,flII,flII            2/1   \n",
       "\n",
       "     TimeSignatureGrouped  Voices  WindowId  \n",
       "0                   other                 0  \n",
       "1                   other                 0  \n",
       "2                   other                 0  \n",
       "3                   other                 0  \n",
       "4                   other                 0  \n",
       "..                    ...     ...       ...  \n",
       "170                 other                 0  \n",
       "171                 other                 0  \n",
       "172                 other                 0  \n",
       "173                 other                 0  \n",
       "174                 other                 0  \n",
       "\n",
       "[175 rows x 561 columns]"
      ]
     },
     "execution_count": 51,
     "metadata": {},
     "output_type": "execute_result"
    }
   ],
   "source": [
    "df"
   ]
  },
  {
   "cell_type": "code",
   "execution_count": null,
   "metadata": {},
   "outputs": [
    {
     "name": "stdout",
     "output_type": "stream",
     "text": [
      "\u001b[1;37m\n",
      "Post-processing data...\u001b[0m\n"
     ]
    },
    {
     "data": {
      "text/plain": [
       "(175, 561)"
      ]
     },
     "execution_count": 52,
     "metadata": {},
     "output_type": "execute_result"
    }
   ],
   "source": [
    "from musif.process.processor import DataProcessor\n",
    "\n",
    "processed_df = DataProcessor(df, None).process().data\n",
    "\n",
    "# with `.shape` you can see the number of rows and columns of the dataframe\n",
    "processed_df.shape"
   ]
  },
  {
   "cell_type": "code",
   "execution_count": null,
   "metadata": {},
   "outputs": [
    {
     "data": {
      "text/plain": [
       "(175, 561)"
      ]
     },
     "execution_count": 53,
     "metadata": {},
     "output_type": "execute_result"
    }
   ],
   "source": [
    "processed_df.dropna(axis=1, inplace=True)\n",
    "processed_df.shape"
   ]
  },
  {
   "cell_type": "code",
   "execution_count": null,
   "metadata": {},
   "outputs": [
    {
     "name": "stdout",
     "output_type": "stream",
     "text": [
      "Mean Absolute Error: 0.5385324852364026\n"
     ]
    },
    {
     "name": "stderr",
     "output_type": "stream",
     "text": [
      "/Users/ivansimo/anaconda3/envs/ICCMU/lib/python3.11/site-packages/sklearn/neural_network/_multilayer_perceptron.py:541: ConvergenceWarning: lbfgs failed to converge (status=1):\n",
      "STOP: TOTAL NO. of ITERATIONS REACHED LIMIT.\n",
      "\n",
      "Increase the number of iterations (max_iter) or scale the data as shown in:\n",
      "    https://scikit-learn.org/stable/modules/preprocessing.html\n",
      "  self.n_iter_ = _check_optimize_result(\"lbfgs\", opt_res, self.max_iter)\n"
     ]
    }
   ],
   "source": [
    "from sklearn.neural_network import MLPRegressor\n",
    "from sklearn.preprocessing import StandardScaler, OrdinalEncoder\n",
    "from sklearn.pipeline import make_pipeline\n",
    "from sklearn.metrics import mean_absolute_error\n",
    "\n",
    "# removing FileName and Id\n",
    "if 'FileName' in processed_df:\n",
    "    del processed_df['FileName']\n",
    "if 'Id' in processed_df:\n",
    "    del processed_df['Id']\n",
    "\n",
    "preprocessor = make_pipeline(\n",
    "    OrdinalEncoder(), # give a cardinal number to features that are categories\n",
    "    StandardScaler(), # subtract the mean and scale between -1 and +1\n",
    ")\n",
    "\n",
    "model = make_pipeline(\n",
    "    preprocessor,\n",
    "    MLPRegressor(    \n",
    "        hidden_layer_sizes=(128, 32, 8, 2, 8, 32, 128, 396), # the output size is the same as the number of features\n",
    "        activation=\"relu\",\n",
    "        solver=\"lbfgs\",\n",
    "        max_iter=100,\n",
    "        tol=0.1,\n",
    "        random_state=934,\n",
    "        max_fun=10**6\n",
    "        # shuffle=True  \n",
    "    )\n",
    ")\n",
    "\n",
    "y_true = preprocessor.fit_transform(processed_df)\n",
    "# the next call will take some time...\n",
    "model.fit(processed_df, y_true)\n",
    "y_hat = model.predict(processed_df)\n",
    "print(f\"Mean Absolute Error: {mean_absolute_error(y_true, y_hat)}\")"
   ]
  },
  {
   "cell_type": "code",
   "execution_count": null,
   "metadata": {},
   "outputs": [
    {
     "data": {
      "text/plain": [
       "(175, 2)"
      ]
     },
     "execution_count": 55,
     "metadata": {},
     "output_type": "execute_result"
    }
   ],
   "source": [
    "from sklearn.preprocessing import MinMaxScaler\n",
    "\n",
    "mlpclassifier = model['mlpregressor']\n",
    "\n",
    "def mytransform_method(X):\n",
    "    activations = [None for _ in range(mlpclassifier.n_layers_)]\n",
    "    activations[0] = X\n",
    "    X = mlpclassifier._forward_pass(activations)[-6]\n",
    "    return MinMaxScaler().fit_transform(X)\n",
    "\n",
    "mlpclassifier.transform = mytransform_method\n",
    "\n",
    "learned_features = model.transform(processed_df)\n",
    "\n",
    "learned_features.shape"
   ]
  },
  {
   "cell_type": "code",
   "execution_count": null,
   "metadata": {},
   "outputs": [
    {
     "data": {
      "text/plain": [
       "<Axes: >"
      ]
     },
     "execution_count": 56,
     "metadata": {},
     "output_type": "execute_result"
    },
    {
     "data": {
      "image/png": "[encoded data removed]",
      "text/plain": [
       "<Figure size 640x480 with 1 Axes>"
      ]
     },
     "metadata": {
      "image/png": {
       "height": 413,
       "width": 547
      }
     },
     "output_type": "display_data"
    }
   ],
   "source": [
    "import seaborn\n",
    "seaborn.scatterplot(x=learned_features[:, 0], y=learned_features[:, 1])"
   ]
  },
  {
   "cell_type": "code",
   "execution_count": null,
   "metadata": {},
   "outputs": [
    {
     "data": {
      "image/png": "[encoded data removed]",
      "text/plain": [
       "<Figure size 640x480 with 1 Axes>"
      ]
     },
     "metadata": {
      "image/png": {
       "height": 413,
       "width": 547
      }
     },
     "output_type": "display_data"
    }
   ],
   "source": [
    "from sklearn.decomposition import PCA\n",
    "\n",
    "pca_pipeline = make_pipeline(\n",
    "    preprocessor, PCA(2), MinMaxScaler()\n",
    ")\n",
    "data_pca = pca_pipeline.fit_transform(processed_df)\n",
    "ax = seaborn.scatterplot(x=data_pca[:, 0], y=data_pca[:, 1])"
   ]
  },
  {
   "cell_type": "code",
   "execution_count": null,
   "metadata": {},
   "outputs": [],
   "source": [
    "# extrac = FeaturesExtractor(\n",
    "#     ExtractConfiguration('/Users/ivansimo/Desktop/ICCMU/ICCMU_CODE/musicXXI/MUSIF/config_extraction_example.yml'),\n",
    "#     xml_dir = '/Users/ivansimo/Desktop/ICCMU/ICCMU_CODE/musicXXI/MUSIF/data/AnatomyComposerAttributionMIDIFilesAndFeatureData_1_0/MIDI',\n",
    "#     musescore_dir = '/Users/ivansimo/Desktop/ICCMU/ICCMU_CODE/musicXXI/MUSIF/data/AnatomyComposerAttributionMIDIFilesAndFeatureData_1_0/MIDI/Ib_noPen',\n",
    "# ).extract()"
   ]
  },
  {
   "cell_type": "code",
   "execution_count": null,
   "metadata": {},
   "outputs": [],
   "source": [
    "#  config = ExtractConfiguration(\n",
    "     # None,\n",
    "     # musescore_dir=\"/Users/ivansimo/Desktop/ICCMU/ICCMU_CODE/musicXXI/MUSIF/data/AnatomyComposerAttributionMIDIFilesAndFeatureData_1_0/MIDI/Ib_noPen\",\n",
    "     # mscore_exec=\"/Applications/MuseScore 4.app/Contents/MacOS/mscore\",\n",
    "#  )"
   ]
  },
  {
   "cell_type": "code",
   "execution_count": null,
   "metadata": {},
   "outputs": [],
   "source": []
  },
  {
   "cell_type": "code",
   "execution_count": null,
   "metadata": {},
   "outputs": [],
   "source": []
  },
  {
   "cell_type": "code",
   "execution_count": null,
   "metadata": {},
   "outputs": [],
   "source": []
  }
 ],
 "metadata": {
  "kernelspec": {
   "display_name": "ICCMU",
   "language": "python",
   "name": "python3"
  },
  "language_info": {
   "codemirror_mode": {
    "name": "ipython",
    "version": 3
   },
   "file_extension": ".py",
   "mimetype": "text/x-python",
   "name": "python",
   "nbconvert_exporter": "python",
   "pygments_lexer": "ipython3",
   "version": "3.10.14"
  },
  "orig_nbformat": 4
 },
 "nbformat": 4,
 "nbformat_minor": 2
}
