{
 "cells": [
  {
   "cell_type": "markdown",
   "id": "99af7aa1",
   "metadata": {},
   "source": [
    "# Getting started `musif`\n",
    "\n",
    "`musif` is a Python library to analyze music scores. It is a tool to massively extract features from MusicXML and MuseScore files.\n",
    "\n",
    "`musif` was born in the context of the [ERC Project \"DIDONE\"](https://didone.eu/) and, consequently,\n",
    "it is specialized in 18th-century Italian opera arias. However, it is also prepared to work with other repertoires.\n",
    "\n",
    "This tutorial is an introduction for people who are not experts in programming. If you are already an expert, just skip to the [Data Section](#data) and then go to the [Advanced Tutorial]().\n",
    "\n",
    "\n",
    "## Installation\n",
    "\n",
    "First, you should install [`Python`](https://www.python.org/downloads/) > 3.10. An easy way to do this is by using [`Anaconda`](https://www.anaconda.com/products/distribution), especially if you are not used to commandline interface.A\n",
    "Once you have installed `anaconda`:\n",
    "1. Launch the `anaconda-navigator`\n",
    "2. [Create an environment](https://docs.anaconda.com/navigator/getting-started/#managing-environments) selecting python version >= 3.10\n",
    "3. Switch to the newly created environment by clicking on its name\n",
    "4. [Install `jupyter`](https://docs.anaconda.com/anaconda/user-guide/getting-started/#run-python-in-a-jupyter-notebook).\n",
    "\n",
    "To install `musif`:\n",
    "1. [Download](https://raw.githubusercontent.com/DIDONEproject/musif/main/docs/source/Tutorial.ipynb) this notebook.\n",
    "2. Start `jupyter` in your Anaconda environment.\n",
    "3. Open this tutorial.\n",
    "4. Run the following cell by clicking on it and pressing Ctrl+Enter."
   ]
  },
  {
   "cell_type": "code",
   "execution_count": 1,
   "id": "acec1e0f",
   "metadata": {
    "scrolled": true,
    "tags": [
     "hide-output"
    ]
   },
   "outputs": [
    {
     "name": "stdout",
     "output_type": "stream",
     "text": [
      "Collecting musif\n",
      "  Downloading musif-1.0.0-py3-none-any.whl (106 kB)\n",
      "\u001b[2K     \u001b[38;2;114;156;31m━━━━━━━━━━━━━━━━━━━━━━━━━━━━━━━━━━━━━━━\u001b[0m \u001b[32m106.6/106.6 kB\u001b[0m \u001b[31m2.6 MB/s\u001b[0m eta \u001b[36m0:00:00\u001b[0m MB/s\u001b[0m eta \u001b[36m0:00:01\u001b[0m\n",
      "\u001b[?25hRequirement already satisfied: deepdiff>=6.2.1 in ./.venv/lib/python3.11/site-packages (from musif) (6.2.3)\n",
      "Requirement already satisfied: joblib>=1.0.0 in ./.venv/lib/python3.11/site-packages (from musif) (1.2.0)\n",
      "Requirement already satisfied: ms3>=1.2.0 in ./.venv/lib/python3.11/site-packages (from musif) (1.2.0)\n",
      "Requirement already satisfied: music21<9,>=8 in ./.venv/lib/python3.11/site-packages (from musif) (8.1.0)\n",
      "Requirement already satisfied: pandas>=1.3.3 in ./.venv/lib/python3.11/site-packages (from musif) (1.5.3)\n",
      "Requirement already satisfied: pyyaml>=5.4.1 in ./.venv/lib/python3.11/site-packages (from musif) (6.0)\n",
      "Requirement already satisfied: roman>=3.3 in ./.venv/lib/python3.11/site-packages (from musif) (3.3)\n",
      "Requirement already satisfied: scipy>=1.6.0 in ./.venv/lib/python3.11/site-packages (from musif) (1.10.0)\n",
      "Requirement already satisfied: tqdm>=4.56.0 in ./.venv/lib/python3.11/site-packages (from musif) (4.64.1)\n",
      "Requirement already satisfied: ordered-set<4.2.0,>=4.0.2 in ./.venv/lib/python3.11/site-packages (from deepdiff>=6.2.1->musif) (4.1.0)\n",
      "Requirement already satisfied: orjson in ./.venv/lib/python3.11/site-packages (from deepdiff>=6.2.1->musif) (3.8.5)\n",
      "Requirement already satisfied: beautifulsoup4 in ./.venv/lib/python3.11/site-packages (from ms3>=1.2.0->musif) (4.11.1)\n",
      "Requirement already satisfied: lxml in ./.venv/lib/python3.11/site-packages (from ms3>=1.2.0->musif) (4.9.2)\n",
      "Requirement already satisfied: pathos in ./.venv/lib/python3.11/site-packages (from ms3>=1.2.0->musif) (0.3.0)\n",
      "Requirement already satisfied: webcolors in ./.venv/lib/python3.11/site-packages (from ms3>=1.2.0->musif) (1.12)\n",
      "Requirement already satisfied: pytablewriter in ./.venv/lib/python3.11/site-packages (from ms3>=1.2.0->musif) (0.64.2)\n",
      "Requirement already satisfied: GitPython in ./.venv/lib/python3.11/site-packages (from ms3>=1.2.0->musif) (3.1.30)\n",
      "Requirement already satisfied: chardet in ./.venv/lib/python3.11/site-packages (from music21<9,>=8->musif) (5.1.0)\n",
      "Requirement already satisfied: jsonpickle in ./.venv/lib/python3.11/site-packages (from music21<9,>=8->musif) (3.0.1)\n",
      "Requirement already satisfied: matplotlib in ./.venv/lib/python3.11/site-packages (from music21<9,>=8->musif) (3.6.3)\n",
      "Requirement already satisfied: more-itertools in ./.venv/lib/python3.11/site-packages (from music21<9,>=8->musif) (9.0.0)\n",
      "Requirement already satisfied: numpy in ./.venv/lib/python3.11/site-packages (from music21<9,>=8->musif) (1.24.1)\n",
      "Requirement already satisfied: requests in ./.venv/lib/python3.11/site-packages (from music21<9,>=8->musif) (2.28.2)\n",
      "Requirement already satisfied: python-dateutil>=2.8.1 in ./.venv/lib/python3.11/site-packages (from pandas>=1.3.3->musif) (2.8.2)\n",
      "Requirement already satisfied: pytz>=2020.1 in ./.venv/lib/python3.11/site-packages (from pandas>=1.3.3->musif) (2022.7.1)\n",
      "Requirement already satisfied: six>=1.5 in ./.venv/lib/python3.11/site-packages (from python-dateutil>=2.8.1->pandas>=1.3.3->musif) (1.16.0)\n",
      "Requirement already satisfied: soupsieve>1.2 in ./.venv/lib/python3.11/site-packages (from beautifulsoup4->ms3>=1.2.0->musif) (2.3.2.post1)\n",
      "Requirement already satisfied: gitdb<5,>=4.0.1 in ./.venv/lib/python3.11/site-packages (from GitPython->ms3>=1.2.0->musif) (4.0.10)\n",
      "Requirement already satisfied: contourpy>=1.0.1 in ./.venv/lib/python3.11/site-packages (from matplotlib->music21<9,>=8->musif) (1.0.7)\n",
      "Requirement already satisfied: cycler>=0.10 in ./.venv/lib/python3.11/site-packages (from matplotlib->music21<9,>=8->musif) (0.11.0)\n",
      "Requirement already satisfied: fonttools>=4.22.0 in ./.venv/lib/python3.11/site-packages (from matplotlib->music21<9,>=8->musif) (4.38.0)\n",
      "Requirement already satisfied: kiwisolver>=1.0.1 in ./.venv/lib/python3.11/site-packages (from matplotlib->music21<9,>=8->musif) (1.4.4)\n",
      "Requirement already satisfied: packaging>=20.0 in ./.venv/lib/python3.11/site-packages (from matplotlib->music21<9,>=8->musif) (23.0)\n",
      "Requirement already satisfied: pillow>=6.2.0 in ./.venv/lib/python3.11/site-packages (from matplotlib->music21<9,>=8->musif) (9.4.0)\n",
      "Requirement already satisfied: pyparsing>=2.2.1 in ./.venv/lib/python3.11/site-packages (from matplotlib->music21<9,>=8->musif) (3.0.9)\n",
      "Requirement already satisfied: ppft>=1.7.6.6 in ./.venv/lib/python3.11/site-packages (from pathos->ms3>=1.2.0->musif) (1.7.6.6)\n",
      "Requirement already satisfied: dill>=0.3.6 in ./.venv/lib/python3.11/site-packages (from pathos->ms3>=1.2.0->musif) (0.3.6)\n",
      "Requirement already satisfied: pox>=0.3.2 in ./.venv/lib/python3.11/site-packages (from pathos->ms3>=1.2.0->musif) (0.3.2)\n",
      "Requirement already satisfied: multiprocess>=0.70.14 in ./.venv/lib/python3.11/site-packages (from pathos->ms3>=1.2.0->musif) (0.70.14)\n",
      "Requirement already satisfied: setuptools>=38.3.0 in ./.venv/lib/python3.11/site-packages (from pytablewriter->ms3>=1.2.0->musif) (66.1.1)\n",
      "Requirement already satisfied: DataProperty<2,>=0.55.0 in ./.venv/lib/python3.11/site-packages (from pytablewriter->ms3>=1.2.0->musif) (0.55.0)\n",
      "Requirement already satisfied: mbstrdecoder<2,>=1.0.0 in ./.venv/lib/python3.11/site-packages (from pytablewriter->ms3>=1.2.0->musif) (1.1.1)\n",
      "Requirement already satisfied: pathvalidate<3,>=2.3.0 in ./.venv/lib/python3.11/site-packages (from pytablewriter->ms3>=1.2.0->musif) (2.5.2)\n",
      "Requirement already satisfied: tabledata<2,>=1.3.0 in ./.venv/lib/python3.11/site-packages (from pytablewriter->ms3>=1.2.0->musif) (1.3.0)\n",
      "Requirement already satisfied: tcolorpy<1,>=0.0.5 in ./.venv/lib/python3.11/site-packages (from pytablewriter->ms3>=1.2.0->musif) (0.1.2)\n",
      "Requirement already satisfied: typepy[datetime]<2,>=1.2.0 in ./.venv/lib/python3.11/site-packages (from pytablewriter->ms3>=1.2.0->musif) (1.3.0)\n",
      "Requirement already satisfied: charset-normalizer<4,>=2 in ./.venv/lib/python3.11/site-packages (from requests->music21<9,>=8->musif) (2.1.1)\n",
      "Requirement already satisfied: idna<4,>=2.5 in ./.venv/lib/python3.11/site-packages (from requests->music21<9,>=8->musif) (3.4)\n",
      "Requirement already satisfied: urllib3<1.27,>=1.21.1 in ./.venv/lib/python3.11/site-packages (from requests->music21<9,>=8->musif) (1.26.14)\n",
      "Requirement already satisfied: certifi>=2017.4.17 in ./.venv/lib/python3.11/site-packages (from requests->music21<9,>=8->musif) (2022.12.7)\n",
      "Requirement already satisfied: smmap<6,>=3.0.1 in ./.venv/lib/python3.11/site-packages (from gitdb<5,>=4.0.1->GitPython->ms3>=1.2.0->musif) (5.0.0)\n",
      "Installing collected packages: musif\n",
      "Successfully installed musif-1.0.0\n"
     ]
    }
   ],
   "source": [
    "!pip install musif"
   ]
  },
  {
   "cell_type": "markdown",
   "id": "91eac574",
   "metadata": {},
   "source": [
    "Here, the `!` is a special command that executes commands in the terminal. After having run it, you may need to restart the notebook (click the circular arrow ↻ in the top bar, near the icons ▶ and ⏹)\n",
    "\n",
    "Now, let's import `musif`:"
   ]
  },
  {
   "cell_type": "code",
   "execution_count": 3,
   "id": "dbdc5757",
   "metadata": {},
   "outputs": [
    {
     "data": {
      "text/plain": [
       "'1.0.0'"
      ]
     },
     "execution_count": 3,
     "metadata": {},
     "output_type": "execute_result"
    }
   ],
   "source": [
    "import musif\n",
    "musif.__version__"
   ]
  },
  {
   "cell_type": "markdown",
   "id": "01cd214c",
   "metadata": {},
   "source": [
    "## Introduction\n",
    "\n",
    "If you are new to Python, we suggest you to read an introductory tutorial for it, for instance, [this one](https://www.w3schools.com/python/default.asp). \n",
    "\n",
    "In the following, we will introduce some technical terminology that may be useful to you to understand technical documentation while working with `musif`:\n",
    "\n",
    "* A _function_ is a way to represent code that is convenient for humans. You can think of functions as mathematical functions, with some input and some output. However, some programming languages call them _procedures_; this is not the case with Python, but this name allows grasping what functions are, after all: successions of commands that the computer has to execute.\n",
    "\n",
    "* An _object_ is a computational way to represent information _and_ code in the memory of computers; you can think of objects as real concepts of the real world: objects have properties (in Python named _fields_) and functionalities (named _methods_). For instance, an object could be a vehicle, which has some properties (length, maximum speed, number of wheels) and some functionalities (accelerate, decelerate, stop). Objects can also have specializations (named _children_): in our example, a _child_ of vehicle could be the car and another _child_ could be the bike: they have different properties and apply the functionalities in a different way. Both the vehicle, the car, and the bike may have instances: the car that you use everyday to go to work is different from your friend's even if they have the same exact properties, because they are two different concrete objects. Technically, those two cars are two _instances_ of the same _class_. To create an instance, you have to call a function, generically named _constructor_, which takes as arguments the class and the other properties. This function will return the instance. To use `musif`, you don't need to know a lot about objects, but while you search the web it is good to have a little of knowledge.\n",
    "\n",
    "* A _DataFrame_ is another way to represent information for computers. They are designed to be extremely efficient, even if sometimes some aspects of the information can get lost. They are mainly used for data science problems. You can think of a _DataFrame_ as a table, with rows and columns. Usually, rows are _instances_ while columns are _properties_. In data science, these words often become _samples_ and _features_/_variables_. A typical operation is to select only certain columns (properties) or only certain rows (instances) to select subset of the data or to modify the data itself.\n",
    "\n",
    "* Don't be scared to use web search engines such as Google: searching the web in a proper way is one of the most important skills a programmer has!\n",
    "\n",
    "### Main objects\n",
    "\n",
    "When using `musif`, you will usually interface with two objects:\n",
    "1. [`FeaturesExtractor()`](API/musif.extract.html#musif.extract.extract.FeaturesExtractor), which reads music scores and computes a DataFrame containing all the extracted features. In the simplest case, each row represents a music score, while each column represents a feature.\n",
    "2. [`DataProcessor()`](API/musif.process.html#musif.process.processor.DataProcessor), which takes the DataFrame with all the features in it and post-processes it to clean, improve, and possibly modify some of the features.\n",
    "\n",
    "These two objects take as input two different configurations that modify their behavior. In other words, the constructors of `FeaturesExtractor` and `DataProcessor` can accept a wide range of arguments.\n",
    "\n",
    "But let's proceed step by step!"
   ]
  },
  {
   "cell_type": "markdown",
   "id": "c2c2b552",
   "metadata": {},
   "source": [
    "## Data\n",
    "\n",
    "To start, download [this](https://zenodo.org/record/4027957) dataset and uncompress it in a folder named `data` in the same directory as this notebook. Alternatively, just run the following cell (click on it and press Ctrl+Enter):"
   ]
  },
  {
   "cell_type": "code",
   "execution_count": 3,
   "id": "b8119d50",
   "metadata": {},
   "outputs": [],
   "source": [
    "import urllib.request\n",
    "import zipfile\n",
    "from pathlib import Path\n",
    "\n",
    "data_dir = Path(\"data\")\n",
    "dataset_path = \"dataset.zip\"\n",
    "urllib.request.urlretrieve(\"https://zenodo.org/record/4027957/files/AnatomyComposerAttributionMIDIFilesAndFeatureData_1_0.zip?download=1\", dataset_path)\n",
    "with zipfile.ZipFile(dataset_path, 'r') as zip_ref:\n",
    "    zip_ref.extractall(data_dir)"
   ]
  },
  {
   "cell_type": "markdown",
   "id": "cab6f329",
   "metadata": {},
   "source": [
    "## Configuration\n",
    "\n",
    "Let's create a configuration for our experiment. Configurations can be expressed using a `yaml` file or with key-value arguments. `yaml` files are designed for complex projects, while key-value arguments are perfect for simple situations like this.\n",
    "\n",
    "Key-value arguments are something similar to a dictionary: There is a _key_ which must be unique in the dictionary; each _key_ is associated with a _value_, which can instead be repeated. Python can retrieve a value using its key in  a very efficient way!\n",
    "\n",
    "First, we'll need to import the class that describes how a configuration is:"
   ]
  },
  {
   "cell_type": "code",
   "execution_count": 4,
   "id": "27ac4ef0",
   "metadata": {},
   "outputs": [],
   "source": [
    "from musif.config import ExtractConfiguration"
   ]
  },
  {
   "cell_type": "markdown",
   "id": "b7c511bb",
   "metadata": {},
   "source": [
    "Now, we can call its constructor to obtain a configuration object:"
   ]
  },
  {
   "cell_type": "code",
   "execution_count": 5,
   "id": "7fe4511f",
   "metadata": {},
   "outputs": [],
   "source": [
    "import glob\n",
    "\n",
    "config = ExtractConfiguration(\n",
    "    None,\n",
    "    musescore_dir=\"data\",\n",
    "    basic_modules=[\"scoring\"],\n",
    "    features=[\"core\", \"ambitus\", \"interval\", \"tempo\", \n",
    "              \"density\", \"texture\", \"lyrics\", \"scale\", \n",
    "              \"key\", \"dynamics\", \"rhytm\"],\n",
    ")"
   ]
  },
  {
   "cell_type": "markdown",
   "id": "051ca8fe",
   "metadata": {},
   "source": [
    "As you can see, the configuration has 3 values in this case:\n",
    "1. `None`: this is just a place-holder: it would usually be the `yaml` file containing the configuration; since we do not need it, we use `None`.\n",
    "2. The directory where MuseScore will look for the data; we'll use MuseScore to convert MIDI files into MusicXML, so you should first [download](https://musescore.org/en/download) and install it (Note: if you are running this notebook on a remote server without GUI, make sure to have a virtual display set up in the shell. running this notebook, e.g., `Xvfb :99 & export DISPLAY=:99`).\n",
    "3. `basic_modules` are modules used to compute basic features needed for the successive ones.\n",
    "4. `features` are the features that will be computed.\n",
    "\n",
    "Each feature name is a word that refers to a set of features and to a musifpackage.\n",
    "You can also create your own [custom features](./Custom_features.html), but it's a more advanced topic.\n",
    "For now, just think about `basic_modules` and `features` as the same thing, but with a precedence order."
   ]
  },
  {
   "cell_type": "markdown",
   "id": "64a59048",
   "metadata": {},
   "source": [
    "## Feature extraction\n",
    "\n",
    "Now that we have our configuration, we pass it to the function that creates `FeaturesExtraction` objects. This function is exactly named `FeaturesExtraction`:"
   ]
  },
  {
   "cell_type": "code",
   "execution_count": 6,
   "id": "b900810d",
   "metadata": {},
   "outputs": [],
   "source": [
    "from musif.extract.extract import FeaturesExtractor\n",
    "\n",
    "extractor = FeaturesExtractor(config)"
   ]
  },
  {
   "cell_type": "markdown",
   "id": "70522449",
   "metadata": {},
   "source": [
    "Note: We could also pass the configuration values directly to `FeaturesExtractor`, like this:"
   ]
  },
  {
   "cell_type": "code",
   "execution_count": 7,
   "id": "3d423b9c",
   "metadata": {},
   "outputs": [],
   "source": [
    "extractor = FeaturesExtractor(\n",
    "    None,\n",
    "    musescore_dir=\"data\",\n",
    "    basic_modules=[\"scoring\"],\n",
    "    features=[\"core\", \"ambitus\", \"melody\", \"tempo\", \n",
    "              \"density\", \"texture\", \"lyrics\", \"scale\", \n",
    "              \"key\", \"dynamics\", \"rhytm\"]\n",
    ")"
   ]
  },
  {
   "cell_type": "markdown",
   "id": "343373ac",
   "metadata": {},
   "source": [
    "Before starting the extraction, we also need to tell MuseScore the type of files it should look for. In this case, we want it to look for files with extension `'.mid'`. By default, it would look for `.mscx` files, so we need to change it:"
   ]
  },
  {
   "cell_type": "code",
   "execution_count": 8,
   "id": "02361615",
   "metadata": {},
   "outputs": [],
   "source": [
    "import musif.musescore.constants as musescore_c\n",
    "musescore_c.MUSESCORE_FILE_EXTENSION = '.mid'"
   ]
  },
  {
   "cell_type": "markdown",
   "id": "756f12ba",
   "metadata": {},
   "source": [
    "Now, we can start the extraction using the method `extract`. It will return a `DataFrame`:"
   ]
  },
  {
   "cell_type": "code",
   "execution_count": 9,
   "id": "f53a6c61",
   "metadata": {
    "scrolled": true
   },
   "outputs": [
    {
     "name": "stderr",
     "output_type": "stream",
     "text": [
      "100%|█████████████████████████████████████████████████████████████████████████████████| 175/175 [04:33<00:00,  1.56s/it]\n"
     ]
    }
   ],
   "source": [
    "df = extractor.extract()"
   ]
  },
  {
   "cell_type": "code",
   "execution_count": 10,
   "id": "44e92d14",
   "metadata": {},
   "outputs": [
    {
     "data": {
      "text/html": [
       "<div>\n",
       "<style scoped>\n",
       "    .dataframe tbody tr th:only-of-type {\n",
       "        vertical-align: middle;\n",
       "    }\n",
       "\n",
       "    .dataframe tbody tr th {\n",
       "        vertical-align: top;\n",
       "    }\n",
       "\n",
       "    .dataframe thead th {\n",
       "        text-align: right;\n",
       "    }\n",
       "</style>\n",
       "<table border=\"1\" class=\"dataframe\">\n",
       "  <thead>\n",
       "    <tr style=\"text-align: right;\">\n",
       "      <th></th>\n",
       "      <th>FamilyInstrumentation</th>\n",
       "      <th>FamilyScoring</th>\n",
       "      <th>FamilyWw_Density</th>\n",
       "      <th>FamilyWw_Notes</th>\n",
       "      <th>FamilyWw_NotesMean</th>\n",
       "      <th>FamilyWw_NumberOfFilteredParts</th>\n",
       "      <th>FamilyWw_NumberOfParts</th>\n",
       "      <th>FamilyWw_SoundingDensity</th>\n",
       "      <th>FamilyWw_SoundingMeasures</th>\n",
       "      <th>FamilyWw_SoundingMeasuresMean</th>\n",
       "      <th>...</th>\n",
       "      <th>SoundFl_TrimmedIntervallicMean</th>\n",
       "      <th>SoundFl_TrimmedIntervallicStd</th>\n",
       "      <th>SoundScoring</th>\n",
       "      <th>Tempo</th>\n",
       "      <th>TempoGrouped1</th>\n",
       "      <th>TempoGrouped2</th>\n",
       "      <th>TimeSignature</th>\n",
       "      <th>TimeSignatureGrouped</th>\n",
       "      <th>Voices</th>\n",
       "      <th>WindowId</th>\n",
       "    </tr>\n",
       "  </thead>\n",
       "  <tbody>\n",
       "    <tr>\n",
       "      <th>0</th>\n",
       "      <td>ww</td>\n",
       "      <td>ww</td>\n",
       "      <td>0.619932</td>\n",
       "      <td>367</td>\n",
       "      <td>91.75</td>\n",
       "      <td>4</td>\n",
       "      <td>4</td>\n",
       "      <td>0.660072</td>\n",
       "      <td>278</td>\n",
       "      <td>69.50</td>\n",
       "      <td>...</td>\n",
       "      <td>-0.113402</td>\n",
       "      <td>1.468171</td>\n",
       "      <td>fl</td>\n",
       "      <td>NA</td>\n",
       "      <td>NA</td>\n",
       "      <td>None</td>\n",
       "      <td>2/1</td>\n",
       "      <td>other</td>\n",
       "      <td></td>\n",
       "      <td>0</td>\n",
       "    </tr>\n",
       "    <tr>\n",
       "      <th>1</th>\n",
       "      <td>ww</td>\n",
       "      <td>ww</td>\n",
       "      <td>0.872024</td>\n",
       "      <td>586</td>\n",
       "      <td>146.50</td>\n",
       "      <td>4</td>\n",
       "      <td>4</td>\n",
       "      <td>1.069343</td>\n",
       "      <td>274</td>\n",
       "      <td>68.50</td>\n",
       "      <td>...</td>\n",
       "      <td>-0.165236</td>\n",
       "      <td>1.616888</td>\n",
       "      <td>fl</td>\n",
       "      <td>NA</td>\n",
       "      <td>NA</td>\n",
       "      <td>None</td>\n",
       "      <td>2/1</td>\n",
       "      <td>other</td>\n",
       "      <td></td>\n",
       "      <td>0</td>\n",
       "    </tr>\n",
       "    <tr>\n",
       "      <th>2</th>\n",
       "      <td>ww</td>\n",
       "      <td>ww</td>\n",
       "      <td>0.974593</td>\n",
       "      <td>959</td>\n",
       "      <td>239.75</td>\n",
       "      <td>4</td>\n",
       "      <td>4</td>\n",
       "      <td>1.175245</td>\n",
       "      <td>408</td>\n",
       "      <td>102.00</td>\n",
       "      <td>...</td>\n",
       "      <td>-0.103268</td>\n",
       "      <td>1.616436</td>\n",
       "      <td>fl</td>\n",
       "      <td>NA</td>\n",
       "      <td>NA</td>\n",
       "      <td>None</td>\n",
       "      <td>2/1</td>\n",
       "      <td>other</td>\n",
       "      <td></td>\n",
       "      <td>0</td>\n",
       "    </tr>\n",
       "    <tr>\n",
       "      <th>3</th>\n",
       "      <td>ww</td>\n",
       "      <td>ww</td>\n",
       "      <td>0.736979</td>\n",
       "      <td>566</td>\n",
       "      <td>141.50</td>\n",
       "      <td>4</td>\n",
       "      <td>4</td>\n",
       "      <td>0.887147</td>\n",
       "      <td>319</td>\n",
       "      <td>79.75</td>\n",
       "      <td>...</td>\n",
       "      <td>-0.095556</td>\n",
       "      <td>1.564105</td>\n",
       "      <td>fl</td>\n",
       "      <td>NA</td>\n",
       "      <td>NA</td>\n",
       "      <td>None</td>\n",
       "      <td>2/1</td>\n",
       "      <td>other</td>\n",
       "      <td></td>\n",
       "      <td>0</td>\n",
       "    </tr>\n",
       "    <tr>\n",
       "      <th>4</th>\n",
       "      <td>ww</td>\n",
       "      <td>ww</td>\n",
       "      <td>0.957692</td>\n",
       "      <td>498</td>\n",
       "      <td>124.50</td>\n",
       "      <td>4</td>\n",
       "      <td>4</td>\n",
       "      <td>1.101770</td>\n",
       "      <td>226</td>\n",
       "      <td>56.50</td>\n",
       "      <td>...</td>\n",
       "      <td>-0.073232</td>\n",
       "      <td>1.619699</td>\n",
       "      <td>fl</td>\n",
       "      <td>NA</td>\n",
       "      <td>NA</td>\n",
       "      <td>None</td>\n",
       "      <td>2/1</td>\n",
       "      <td>other</td>\n",
       "      <td></td>\n",
       "      <td>0</td>\n",
       "    </tr>\n",
       "    <tr>\n",
       "      <th>...</th>\n",
       "      <td>...</td>\n",
       "      <td>...</td>\n",
       "      <td>...</td>\n",
       "      <td>...</td>\n",
       "      <td>...</td>\n",
       "      <td>...</td>\n",
       "      <td>...</td>\n",
       "      <td>...</td>\n",
       "      <td>...</td>\n",
       "      <td>...</td>\n",
       "      <td>...</td>\n",
       "      <td>...</td>\n",
       "      <td>...</td>\n",
       "      <td>...</td>\n",
       "      <td>...</td>\n",
       "      <td>...</td>\n",
       "      <td>...</td>\n",
       "      <td>...</td>\n",
       "      <td>...</td>\n",
       "      <td>...</td>\n",
       "      <td>...</td>\n",
       "    </tr>\n",
       "    <tr>\n",
       "      <th>170</th>\n",
       "      <td>ww</td>\n",
       "      <td>ww</td>\n",
       "      <td>1.070513</td>\n",
       "      <td>668</td>\n",
       "      <td>167.00</td>\n",
       "      <td>4</td>\n",
       "      <td>4</td>\n",
       "      <td>1.265152</td>\n",
       "      <td>264</td>\n",
       "      <td>66.00</td>\n",
       "      <td>...</td>\n",
       "      <td>-0.110902</td>\n",
       "      <td>1.629415</td>\n",
       "      <td>fl</td>\n",
       "      <td>NA</td>\n",
       "      <td>NA</td>\n",
       "      <td>None</td>\n",
       "      <td>2/1</td>\n",
       "      <td>other</td>\n",
       "      <td></td>\n",
       "      <td>0</td>\n",
       "    </tr>\n",
       "    <tr>\n",
       "      <th>171</th>\n",
       "      <td>ww</td>\n",
       "      <td>ww</td>\n",
       "      <td>1.125000</td>\n",
       "      <td>729</td>\n",
       "      <td>182.25</td>\n",
       "      <td>4</td>\n",
       "      <td>4</td>\n",
       "      <td>1.285714</td>\n",
       "      <td>189</td>\n",
       "      <td>47.25</td>\n",
       "      <td>...</td>\n",
       "      <td>0.029260</td>\n",
       "      <td>1.760390</td>\n",
       "      <td>fl</td>\n",
       "      <td>NA</td>\n",
       "      <td>NA</td>\n",
       "      <td>None</td>\n",
       "      <td>3/1</td>\n",
       "      <td>other</td>\n",
       "      <td></td>\n",
       "      <td>0</td>\n",
       "    </tr>\n",
       "    <tr>\n",
       "      <th>172</th>\n",
       "      <td>ww</td>\n",
       "      <td>ww</td>\n",
       "      <td>0.913306</td>\n",
       "      <td>453</td>\n",
       "      <td>113.25</td>\n",
       "      <td>4</td>\n",
       "      <td>4</td>\n",
       "      <td>1.198413</td>\n",
       "      <td>189</td>\n",
       "      <td>47.25</td>\n",
       "      <td>...</td>\n",
       "      <td>-0.049861</td>\n",
       "      <td>1.546242</td>\n",
       "      <td>fl</td>\n",
       "      <td>NA</td>\n",
       "      <td>NA</td>\n",
       "      <td>None</td>\n",
       "      <td>2/1</td>\n",
       "      <td>other</td>\n",
       "      <td></td>\n",
       "      <td>0</td>\n",
       "    </tr>\n",
       "    <tr>\n",
       "      <th>173</th>\n",
       "      <td>ww</td>\n",
       "      <td>ww</td>\n",
       "      <td>0.904412</td>\n",
       "      <td>369</td>\n",
       "      <td>92.25</td>\n",
       "      <td>4</td>\n",
       "      <td>4</td>\n",
       "      <td>1.111446</td>\n",
       "      <td>166</td>\n",
       "      <td>41.50</td>\n",
       "      <td>...</td>\n",
       "      <td>-0.051195</td>\n",
       "      <td>1.598028</td>\n",
       "      <td>fl</td>\n",
       "      <td>NA</td>\n",
       "      <td>NA</td>\n",
       "      <td>None</td>\n",
       "      <td>2/1</td>\n",
       "      <td>other</td>\n",
       "      <td></td>\n",
       "      <td>0</td>\n",
       "    </tr>\n",
       "    <tr>\n",
       "      <th>174</th>\n",
       "      <td>ww</td>\n",
       "      <td>ww</td>\n",
       "      <td>1.377119</td>\n",
       "      <td>650</td>\n",
       "      <td>162.50</td>\n",
       "      <td>4</td>\n",
       "      <td>4</td>\n",
       "      <td>1.504630</td>\n",
       "      <td>216</td>\n",
       "      <td>54.00</td>\n",
       "      <td>...</td>\n",
       "      <td>-0.154440</td>\n",
       "      <td>1.713925</td>\n",
       "      <td>fl</td>\n",
       "      <td>NA</td>\n",
       "      <td>NA</td>\n",
       "      <td>None</td>\n",
       "      <td>2/1</td>\n",
       "      <td>other</td>\n",
       "      <td></td>\n",
       "      <td>0</td>\n",
       "    </tr>\n",
       "  </tbody>\n",
       "</table>\n",
       "<p>175 rows × 695 columns</p>\n",
       "</div>"
      ],
      "text/plain": [
       "    FamilyInstrumentation FamilyScoring  FamilyWw_Density  FamilyWw_Notes  \\\n",
       "0                      ww            ww          0.619932             367   \n",
       "1                      ww            ww          0.872024             586   \n",
       "2                      ww            ww          0.974593             959   \n",
       "3                      ww            ww          0.736979             566   \n",
       "4                      ww            ww          0.957692             498   \n",
       "..                    ...           ...               ...             ...   \n",
       "170                    ww            ww          1.070513             668   \n",
       "171                    ww            ww          1.125000             729   \n",
       "172                    ww            ww          0.913306             453   \n",
       "173                    ww            ww          0.904412             369   \n",
       "174                    ww            ww          1.377119             650   \n",
       "\n",
       "     FamilyWw_NotesMean  FamilyWw_NumberOfFilteredParts  \\\n",
       "0                 91.75                               4   \n",
       "1                146.50                               4   \n",
       "2                239.75                               4   \n",
       "3                141.50                               4   \n",
       "4                124.50                               4   \n",
       "..                  ...                             ...   \n",
       "170              167.00                               4   \n",
       "171              182.25                               4   \n",
       "172              113.25                               4   \n",
       "173               92.25                               4   \n",
       "174              162.50                               4   \n",
       "\n",
       "     FamilyWw_NumberOfParts  FamilyWw_SoundingDensity  \\\n",
       "0                         4                  0.660072   \n",
       "1                         4                  1.069343   \n",
       "2                         4                  1.175245   \n",
       "3                         4                  0.887147   \n",
       "4                         4                  1.101770   \n",
       "..                      ...                       ...   \n",
       "170                       4                  1.265152   \n",
       "171                       4                  1.285714   \n",
       "172                       4                  1.198413   \n",
       "173                       4                  1.111446   \n",
       "174                       4                  1.504630   \n",
       "\n",
       "     FamilyWw_SoundingMeasures  FamilyWw_SoundingMeasuresMean  ...  \\\n",
       "0                          278                          69.50  ...   \n",
       "1                          274                          68.50  ...   \n",
       "2                          408                         102.00  ...   \n",
       "3                          319                          79.75  ...   \n",
       "4                          226                          56.50  ...   \n",
       "..                         ...                            ...  ...   \n",
       "170                        264                          66.00  ...   \n",
       "171                        189                          47.25  ...   \n",
       "172                        189                          47.25  ...   \n",
       "173                        166                          41.50  ...   \n",
       "174                        216                          54.00  ...   \n",
       "\n",
       "    SoundFl_TrimmedIntervallicMean  SoundFl_TrimmedIntervallicStd  \\\n",
       "0                        -0.113402                       1.468171   \n",
       "1                        -0.165236                       1.616888   \n",
       "2                        -0.103268                       1.616436   \n",
       "3                        -0.095556                       1.564105   \n",
       "4                        -0.073232                       1.619699   \n",
       "..                             ...                            ...   \n",
       "170                      -0.110902                       1.629415   \n",
       "171                       0.029260                       1.760390   \n",
       "172                      -0.049861                       1.546242   \n",
       "173                      -0.051195                       1.598028   \n",
       "174                      -0.154440                       1.713925   \n",
       "\n",
       "    SoundScoring Tempo TempoGrouped1 TempoGrouped2  TimeSignature  \\\n",
       "0             fl    NA            NA          None            2/1   \n",
       "1             fl    NA            NA          None            2/1   \n",
       "2             fl    NA            NA          None            2/1   \n",
       "3             fl    NA            NA          None            2/1   \n",
       "4             fl    NA            NA          None            2/1   \n",
       "..           ...   ...           ...           ...            ...   \n",
       "170           fl    NA            NA          None            2/1   \n",
       "171           fl    NA            NA          None            3/1   \n",
       "172           fl    NA            NA          None            2/1   \n",
       "173           fl    NA            NA          None            2/1   \n",
       "174           fl    NA            NA          None            2/1   \n",
       "\n",
       "    TimeSignatureGrouped  Voices  WindowId  \n",
       "0                  other                 0  \n",
       "1                  other                 0  \n",
       "2                  other                 0  \n",
       "3                  other                 0  \n",
       "4                  other                 0  \n",
       "..                   ...     ...       ...  \n",
       "170                other                 0  \n",
       "171                other                 0  \n",
       "172                other                 0  \n",
       "173                other                 0  \n",
       "174                other                 0  \n",
       "\n",
       "[175 rows x 695 columns]"
      ]
     },
     "execution_count": 10,
     "metadata": {},
     "output_type": "execute_result"
    }
   ],
   "source": [
    "# To show the DataFrame in a Jupyter notebook, just use it as last instruction of the cell, like this:\n",
    "df"
   ]
  },
  {
   "cell_type": "markdown",
   "id": "9b29fedc",
   "metadata": {},
   "source": [
    "## Post-processing\n",
    "\n",
    "Most of the features we have computed actually need some post-processing, for instance to replace `NaN` with 0, merge columns, or remove features created while computing other features.\n",
    "\n",
    "For this, we need a further step. In the next cell we will:\n",
    "1. Instantiate a `DataProcessor` object using:\n",
    "    * the generated DataFrame\n",
    "    * the default configuration (i.e. `None` in place of the yaml file/configuration object)\n",
    "2. Call the method `process()` of that object to start the post-processing of the features\n",
    "3. We retrieve the post-processed data from the field `data`\n",
    "4. We print the size of the DataFrame."
   ]
  },
  {
   "cell_type": "code",
   "execution_count": 11,
   "id": "35c706fa",
   "metadata": {},
   "outputs": [
    {
     "name": "stdout",
     "output_type": "stream",
     "text": [
      "\u001b[1;37m\n",
      "Processing DataFrame...\u001b[0m\n",
      "\u001b[1;37m\n",
      "Preprocessing data...\u001b[0m\n",
      "\u001b[1;37m\n",
      "Deleting not useful columns...\u001b[0m\n"
     ]
    },
    {
     "name": "stderr",
     "output_type": "stream",
     "text": [
      "Replacing NaN values in selected columns: 100%|██████████████████████████████████| 500/500 [00:00<00:00, 1789378.84it/s]\n",
      "Adjusting NaN values: 100%|█████████████████████████████████████████████████████████| 500/500 [00:00<00:00, 1080.68it/s]\n"
     ]
    },
    {
     "data": {
      "text/plain": [
       "(175, 500)"
      ]
     },
     "execution_count": 11,
     "metadata": {},
     "output_type": "execute_result"
    }
   ],
   "source": [
    "from musif.process.processor import DataProcessor\n",
    "\n",
    "processed_df = DataProcessor(df, None).process().data\n",
    "\n",
    "# with `.shape` you can see the number of rows and columns of the dataframe\n",
    "processed_df.shape"
   ]
  },
  {
   "cell_type": "markdown",
   "id": "9e1d6bd3",
   "metadata": {},
   "source": [
    "As you see, the columns are now fewer than before!\n",
    "\n",
    "Let's try to remove `NaN` (elements that should be number but that cannot be expressed, e.g., the division $0/0$. To do this, we'll use the [`dropna` method](https://pandas.pydata.org/docs/reference/api/pandas.DataFrame.dropna.html?highlight=dropna#pandas.DataFrame.dropna) of the `pandas.DataFrame` object."
   ]
  },
  {
   "cell_type": "code",
   "execution_count": 12,
   "id": "7df5c5aa",
   "metadata": {},
   "outputs": [
    {
     "data": {
      "text/plain": [
       "(175, 396)"
      ]
     },
     "execution_count": 12,
     "metadata": {},
     "output_type": "execute_result"
    }
   ],
   "source": [
    "processed_df.dropna(axis=1, inplace=True)\n",
    "processed_df.shape"
   ]
  },
  {
   "cell_type": "markdown",
   "id": "7cc69508",
   "metadata": {},
   "source": [
    "The dataset was not very well formatted and this is the reason why only a few features remain.\n",
    "\n",
    "## Statistical processing\n",
    "\n",
    "Let's try to classify the features. We will setup a feature-learning approach with an autoencoder architecture.\n",
    "\n",
    "For this, we will use `sklearn` and its Multilayer Perceptron, so you will need to [install](https://docs.anaconda.com/navigator/getting-started/#managing-packages) `scikit-learn` and `seaborn` packages in your anaconda environment.\n",
    "\n",
    "In the next cell, the topic becomes a little more technical, but it's just an example to show that you can use this DataFrame for statistical analysis. We will first remove redundant information (the `FileName` and the `Id` columns that were automatically assigned by the `FeatureExtractor`). \n",
    "\n",
    "Then, we will create a model which:\n",
    "1. Assigns a number to each feature that has strings as values (`OrdinalEncoder`).\n",
    "2. Standardizes the features to get comparable values.\n",
    "3. Trains a simple feed-forward fully connected autoencoder with ReLU activations and LBGFS optimizer.\n",
    "\n",
    "The objective is to learn a 2D space where the 396 extracted features can be represented without loosing information."
   ]
  },
  {
   "cell_type": "code",
   "execution_count": 17,
   "id": "373d30ce",
   "metadata": {},
   "outputs": [
    {
     "name": "stdout",
     "output_type": "stream",
     "text": [
      "Mean Absolute Error: 0.4468922497339742\n"
     ]
    },
    {
     "name": "stderr",
     "output_type": "stream",
     "text": [
      "/home/federico/.local/lib/python3.10/site-packages/sklearn/neural_network/_multilayer_perceptron.py:536: ConvergenceWarning: lbfgs failed to converge (status=1):\n",
      "STOP: TOTAL NO. of ITERATIONS REACHED LIMIT.\n",
      "\n",
      "Increase the number of iterations (max_iter) or scale the data as shown in:\n",
      "    https://scikit-learn.org/stable/modules/preprocessing.html\n",
      "  self.n_iter_ = _check_optimize_result(\"lbfgs\", opt_res, self.max_iter)\n"
     ]
    }
   ],
   "source": [
    "from sklearn.neural_network import MLPRegressor\n",
    "from sklearn.preprocessing import StandardScaler, OrdinalEncoder\n",
    "from sklearn.pipeline import make_pipeline\n",
    "from sklearn.metrics import mean_absolute_error\n",
    "\n",
    "# removing FileName and Id\n",
    "if 'FileName' in processed_df:\n",
    "    del processed_df['FileName']\n",
    "if 'Id' in processed_df:\n",
    "    del processed_df['Id']\n",
    "\n",
    "preprocessor = make_pipeline(\n",
    "    OrdinalEncoder(), # give a cardinal number to features that are categories\n",
    "    StandardScaler(), # subtract the mean and scale between -1 and +1\n",
    ")\n",
    "\n",
    "model = make_pipeline(\n",
    "    preprocessor,\n",
    "    MLPRegressor(    \n",
    "        hidden_layer_sizes=(128, 32, 8, 2, 8, 32, 128, 396), # the output size is the same as the number of features\n",
    "        activation=\"relu\",\n",
    "        solver=\"lbfgs\",\n",
    "        max_iter=100,\n",
    "        tol=0.1,\n",
    "        random_state=934,\n",
    "        max_fun=10**6\n",
    "        # shuffle=True  \n",
    "    )\n",
    ")\n",
    "\n",
    "y_true = preprocessor.fit_transform(processed_df)\n",
    "# the next call will take some time...\n",
    "model.fit(processed_df, y_true)\n",
    "y_hat = model.predict(processed_df)\n",
    "print(f\"Mean Absolute Error: {mean_absolute_error(y_true, y_hat)}\")"
   ]
  },
  {
   "cell_type": "markdown",
   "id": "f75abded",
   "metadata": {},
   "source": [
    "Now, we will attach a method `transform` to the MLPClassifier which returns the activations at the inner layer with 2 outputs, that we interpret as latent features. To compare the features, we will scale them in [0, 1].\n",
    "\n",
    "Then, we plot the music scores according to the learned feature space."
   ]
  },
  {
   "cell_type": "code",
   "execution_count": 18,
   "id": "278cdf51",
   "metadata": {},
   "outputs": [
    {
     "data": {
      "text/plain": [
       "(175, 2)"
      ]
     },
     "execution_count": 18,
     "metadata": {},
     "output_type": "execute_result"
    }
   ],
   "source": [
    "from sklearn.preprocessing import MinMaxScaler\n",
    "\n",
    "mlpclassifier = model['mlpregressor']\n",
    "\n",
    "def mytransform_method(X):\n",
    "    activations = [None for _ in range(mlpclassifier.n_layers_)]\n",
    "    activations[0] = X\n",
    "    X = mlpclassifier._forward_pass(activations)[-6]\n",
    "    return MinMaxScaler().fit_transform(X)\n",
    "\n",
    "mlpclassifier.transform = mytransform_method\n",
    "\n",
    "learned_features = model.transform(processed_df)\n",
    "\n",
    "learned_features.shape"
   ]
  },
  {
   "cell_type": "code",
   "execution_count": 19,
   "id": "4102a187",
   "metadata": {},
   "outputs": [
    {
     "data": {
      "text/plain": [
       "<AxesSubplot: >"
      ]
     },
     "execution_count": 19,
     "metadata": {},
     "output_type": "execute_result"
    },
    {
     "data": {
      "image/png": "[encoded data removed]",
      "text/plain": [
       "<Figure size 640x480 with 1 Axes>"
      ]
     },
     "metadata": {
      "image/png": {
       "height": 413,
       "width": 547
      }
     },
     "output_type": "display_data"
    }
   ],
   "source": [
    "import seaborn\n",
    "seaborn.scatterplot(x=learned_features[:, 0], y=learned_features[:, 1])"
   ]
  },
  {
   "cell_type": "markdown",
   "id": "be7cf96b",
   "metadata": {},
   "source": [
    "For comparison, let's plot the 2D features learned by a standard PCA (the final scaler is aded to compare with the autoencoder):"
   ]
  },
  {
   "cell_type": "code",
   "execution_count": 21,
   "id": "00e64c38",
   "metadata": {},
   "outputs": [
    {
     "data": {
      "image/png": "[encoded data removed]",
      "text/plain": [
       "<Figure size 640x480 with 1 Axes>"
      ]
     },
     "metadata": {
      "image/png": {
       "height": 413,
       "width": 547
      }
     },
     "output_type": "display_data"
    }
   ],
   "source": [
    "from sklearn.decomposition import PCA\n",
    "\n",
    "pca_pipeline = make_pipeline(\n",
    "    preprocessor, PCA(2), MinMaxScaler()\n",
    ")\n",
    "data_pca = pca_pipeline.fit_transform(processed_df)\n",
    "ax = seaborn.scatterplot(x=data_pca[:, 0], y=data_pca[:, 1])"
   ]
  }
 ],
 "metadata": {
  "celltoolbar": "Edit Metadata",
  "kernelspec": {
   "display_name": "Python 3 (ipykernel)",
   "language": "python",
   "name": "python3"
  },
  "language_info": {
   "codemirror_mode": {
    "name": "ipython",
    "version": 3
   },
   "file_extension": ".py",
   "mimetype": "text/x-python",
   "name": "python",
   "nbconvert_exporter": "python",
   "pygments_lexer": "ipython3",
   "version": "3.11.0"
  },
  "vscode": {
   "interpreter": {
    "hash": "3fac8f976d2c4ee2bc715215bb95954c479b3e9d5186e3f6df5c366b6270a4af"
   }
  }
 },
 "nbformat": 4,
 "nbformat_minor": 5
}
